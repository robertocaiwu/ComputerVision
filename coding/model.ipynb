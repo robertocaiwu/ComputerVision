{
 "cells": [
  {
   "cell_type": "code",
   "execution_count": 13,
   "metadata": {},
   "outputs": [],
   "source": [
    "from __future__ import division\n",
    "import pickle\n",
    "from keras.models import Sequential\n",
    "from keras.layers import *\n",
    "from keras.layers.advanced_activations import PReLU\n",
    "#utilities help us transform our data\n",
    "from keras.utils import * \n",
    "from sklearn.cross_validation import train_test_split\n",
    "from keras.callbacks import EarlyStopping, ModelCheckpoint, CSVLogger\n",
    "import tensorflow as tf"
   ]
  },
  {
   "cell_type": "code",
   "execution_count": 14,
   "metadata": {},
   "outputs": [
    {
     "name": "stdout",
     "output_type": "stream",
     "text": [
      "('Training set and labels', 26721, (26721, 10))\n",
      "('Validation set and labels ', 6680, 6680)\n",
      "('Test set and labels', 13068, 13068)\n"
     ]
    }
   ],
   "source": [
    "#Load pre-processed trained and test data\n",
    "\n",
    "pickle_file = 'dataSet_listSvhn.pickle'\n",
    "\n",
    "with open(pickle_file, 'rb') as f:\n",
    "  save = pickle.load(f)\n",
    "  train_dataset = save['train_dataset']\n",
    "  train_labels = save['train_labels']\n",
    "  valid_dataset = save['valid_dataset']\n",
    "  valid_labels = save['valid_labels']\n",
    "  test_dataset = save['test_dataset']\n",
    "  test_labels = save['test_labels']\n",
    "  print('Training set and labels', len(train_dataset), (train_labels.shape))\n",
    "  print('Validation set and labels ', len(valid_dataset), len(valid_labels))\n",
    "  print('Test set and labels', len(test_dataset), len(test_labels))\n",
    "  del save  # hint to help gc free up memory\n"
   ]
  },
  {
   "cell_type": "code",
   "execution_count": 15,
   "metadata": {
    "collapsed": true
   },
   "outputs": [],
   "source": [
    "# Generate images according to batch size\n",
    "def gen(dataset, labels, batch_size):\n",
    "    \n",
    "    images = []\n",
    "    digits = []\n",
    "#     print \"calling\"\n",
    "    i = 0\n",
    "    while True:\n",
    "        images.append(dataset[i])\n",
    "        digits.append(labels[i]) \n",
    "        i+=1\n",
    "        # Generate images based on batch size\n",
    "        if i == batch_size:\n",
    "            yield (np.array(images), np.array(digits))\n",
    "            images = []\n",
    "            digits = []\n",
    "        # Generate remaining images also\n",
    "        if i == len(dataset):\n",
    "            yield (np.array(images), np.array(digits))\n",
    "            images, digits = [], []\n",
    "            i = 0"
   ]
  },
  {
   "cell_type": "code",
   "execution_count": 17,
   "metadata": {},
   "outputs": [
    {
     "name": "stdout",
     "output_type": "stream",
     "text": [
      "(32, 32, 1)\n"
     ]
    }
   ],
   "source": [
    "# data_path = './wiki_crop/wiki.mat'\n",
    "model_save_path = 'TrainedModel.hdf5'\n",
    "num_classes = 10\n",
    "\n",
    "image_size =32, 32, 1\n",
    "print image_size\n",
    "batch_size = 150\n",
    "num_epochs = 30\n",
    "train = (gen(train_dataset, train_labels, batch_size))\n",
    "# print (next(train)[0][0].shape)\n",
    "# print next(train)\n",
    "valid = (gen(valid_dataset, valid_labels, batch_size))"
   ]
  },
  {
   "cell_type": "code",
   "execution_count": null,
   "metadata": {},
   "outputs": [
    {
     "name": "stderr",
     "output_type": "stream",
     "text": [
      "/home/ramesh/anaconda2/lib/python2.7/site-packages/ipykernel_launcher.py:6: UserWarning: Update your `Conv2D` call to the Keras 2 API: `Conv2D(16, (5, 5), padding=\"same\", input_shape=(32, 32, 1...)`\n",
      "  \n",
      "/home/ramesh/anaconda2/lib/python2.7/site-packages/ipykernel_launcher.py:9: UserWarning: Update your `AveragePooling2D` call to the Keras 2 API: `AveragePooling2D(padding=\"same\", strides=(2, 2), pool_size=(5, 5))`\n",
      "  if __name__ == '__main__':\n",
      "/home/ramesh/anaconda2/lib/python2.7/site-packages/ipykernel_launcher.py:12: UserWarning: Update your `Conv2D` call to the Keras 2 API: `Conv2D(32, (7, 7), padding=\"same\")`\n",
      "  if sys.path[0] == '':\n",
      "/home/ramesh/anaconda2/lib/python2.7/site-packages/ipykernel_launcher.py:15: UserWarning: Update your `AveragePooling2D` call to the Keras 2 API: `AveragePooling2D(padding=\"same\", strides=(2, 2), pool_size=(3, 3))`\n",
      "  from ipykernel import kernelapp as app\n",
      "/home/ramesh/anaconda2/lib/python2.7/site-packages/ipykernel_launcher.py:18: UserWarning: Update your `Conv2D` call to the Keras 2 API: `Conv2D(96, (5, 5), padding=\"same\")`\n",
      "/home/ramesh/anaconda2/lib/python2.7/site-packages/ipykernel_launcher.py:21: UserWarning: Update your `AveragePooling2D` call to the Keras 2 API: `AveragePooling2D(padding=\"same\", strides=(2, 2), pool_size=(3, 3))`\n"
     ]
    },
    {
     "name": "stdout",
     "output_type": "stream",
     "text": [
      "_________________________________________________________________\n",
      "Layer (type)                 Output Shape              Param #   \n",
      "=================================================================\n",
      "conv2d_31 (Conv2D)           (None, 32, 32, 16)        416       \n",
      "_________________________________________________________________\n",
      "p_re_lu_51 (PReLU)           (None, 32, 32, 16)        16384     \n",
      "_________________________________________________________________\n",
      "batch_normalization_31 (Batc (None, 32, 32, 16)        64        \n",
      "_________________________________________________________________\n",
      "average_pooling2d_31 (Averag (None, 16, 16, 16)        0         \n",
      "_________________________________________________________________\n",
      "conv2d_32 (Conv2D)           (None, 16, 16, 32)        25120     \n",
      "_________________________________________________________________\n",
      "p_re_lu_52 (PReLU)           (None, 16, 16, 32)        8192      \n",
      "_________________________________________________________________\n",
      "batch_normalization_32 (Batc (None, 16, 16, 32)        128       \n",
      "_________________________________________________________________\n",
      "average_pooling2d_32 (Averag (None, 8, 8, 32)          0         \n",
      "_________________________________________________________________\n",
      "conv2d_33 (Conv2D)           (None, 8, 8, 96)          76896     \n",
      "_________________________________________________________________\n",
      "p_re_lu_53 (PReLU)           (None, 8, 8, 96)          6144      \n",
      "_________________________________________________________________\n",
      "batch_normalization_33 (Batc (None, 8, 8, 96)          384       \n",
      "_________________________________________________________________\n",
      "average_pooling2d_33 (Averag (None, 4, 4, 96)          0         \n",
      "_________________________________________________________________\n",
      "flatten_11 (Flatten)         (None, 1536)              0         \n",
      "_________________________________________________________________\n",
      "dense_31 (Dense)             (None, 32)                49184     \n",
      "_________________________________________________________________\n",
      "p_re_lu_54 (PReLU)           (None, 32)                32        \n",
      "_________________________________________________________________\n",
      "dense_32 (Dense)             (None, 24)                792       \n",
      "_________________________________________________________________\n",
      "p_re_lu_55 (PReLU)           (None, 24)                24        \n",
      "_________________________________________________________________\n",
      "dropout_11 (Dropout)         (None, 24)                0         \n",
      "_________________________________________________________________\n",
      "dense_33 (Dense)             (None, 10)                250       \n",
      "_________________________________________________________________\n",
      "activation_11 (Activation)   (None, 10)                0         \n",
      "=================================================================\n",
      "Total params: 184,010\n",
      "Trainable params: 183,722\n",
      "Non-trainable params: 288\n",
      "_________________________________________________________________\n",
      "None\n",
      "int(len(train_dataset)/batch_size)  178\n"
     ]
    },
    {
     "name": "stderr",
     "output_type": "stream",
     "text": [
      "/home/ramesh/anaconda2/lib/python2.7/site-packages/ipykernel_launcher.py:18: UserWarning: Update your `fit_generator` call to the Keras 2 API: `fit_generator(<generator..., verbose=1, validation_data=<generator..., steps_per_epoch=178, callbacks=[<keras.ca..., validation_steps=150)`\n"
     ]
    },
    {
     "name": "stdout",
     "output_type": "stream",
     "text": [
      "Epoch 1/1calling\n",
      "\n",
      "  1/178 [..............................] - ETA: 48:26 - loss: 214.2622 - acc: 0.1067"
     ]
    }
   ],
   "source": [
    "model = CNN(image_size, num_classes)\n",
    "model.compile(optimizer='adam', loss='categorical_crossentropy',\n",
    "                                        metrics=['accuracy'])\n",
    "print model.summary()\n",
    "csv_logger = CSVLogger('training.log')\n",
    "early_stop = EarlyStopping('val_acc', patience=200, verbose=1)\n",
    "model_checkpoint = ModelCheckpoint(model_save_path,\n",
    "                                    'val_acc', verbose=0,\n",
    "                                    save_best_only=True)\n",
    "\n",
    "model_callbacks = [early_stop, model_checkpoint, csv_logger]\n",
    "# print \"len(train_dataset) \", len(train_dataset)\n",
    "print \"int(len(train_dataset)/batch_size) \", int(len(train_dataset)/batch_size)\n",
    "K.get_session().run(tf.global_variables_initializer())\n",
    "model.fit_generator(train, samples_per_epoch=np.ceil(len(train_dataset)/batch_size), verbose=1, \n",
    "                                    validation_data=valid,\n",
    "                                    validation_steps = batch_size,\n",
    "                                    callbacks=model_callbacks)"
   ]
  },
  {
   "cell_type": "markdown",
   "metadata": {},
   "source": [
    "# Model"
   ]
  },
  {
   "cell_type": "code",
   "execution_count": 6,
   "metadata": {
    "collapsed": true
   },
   "outputs": [],
   "source": [
    "def CNN(input_shape, num_of_classes):\n",
    "    \n",
    "    model = Sequential()\n",
    "    \n",
    "    model.add(Convolution2D(16, 5, 5, border_mode='same',\n",
    "                            input_shape= input_shape ))\n",
    "    model.add(PReLU())\n",
    "    model.add(BatchNormalization())\n",
    "    model.add(AveragePooling2D(pool_size=(5, 5),strides=(2, 2), border_mode='same'))\n",
    "#     model.add(Dropout(.5))\n",
    "    \n",
    "    model.add(Convolution2D(32, 7, 7, border_mode='same'))\n",
    "    model.add(PReLU())\n",
    "    model.add(BatchNormalization())\n",
    "    model.add(AveragePooling2D(pool_size=(3, 3),strides=(2, 2), border_mode='same'))\n",
    "#     model.add(Dropout(.5))\n",
    "\n",
    "    model.add(Convolution2D(96, 5, 5, border_mode='same'))\n",
    "    model.add(PReLU())\n",
    "    model.add(BatchNormalization())\n",
    "    model.add(AveragePooling2D(pool_size=(3, 3),strides=(2, 2), border_mode='same'))\n",
    "\n",
    "    #fully connected laye\n",
    "    model.add(Flatten())\n",
    "    model.add(Dense(32))\n",
    "    model.add(PReLU())\n",
    "#     model.add(Dropout(32))\n",
    "    model.add(Dense(24))\n",
    "    model.add(PReLU())\n",
    "    model.add(Dropout(0.5))\n",
    "    model.add(Dense(num_classes))\n",
    "    model.add(Activation('softmax'))\n",
    "    \n",
    "    return model"
   ]
  },
  {
   "cell_type": "code",
   "execution_count": null,
   "metadata": {
    "collapsed": true
   },
   "outputs": [],
   "source": []
  },
  {
   "cell_type": "code",
   "execution_count": null,
   "metadata": {
    "collapsed": true
   },
   "outputs": [],
   "source": []
  }
 ],
 "metadata": {
  "kernelspec": {
   "display_name": "Python 2",
   "language": "python",
   "name": "python2"
  },
  "language_info": {
   "codemirror_mode": {
    "name": "ipython",
    "version": 2
   },
   "file_extension": ".py",
   "mimetype": "text/x-python",
   "name": "python",
   "nbconvert_exporter": "python",
   "pygments_lexer": "ipython2",
   "version": "2.7.14"
  }
 },
 "nbformat": 4,
 "nbformat_minor": 2
}
