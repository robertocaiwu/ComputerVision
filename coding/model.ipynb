{
 "cells": [
  {
   "cell_type": "code",
   "execution_count": 1,
   "metadata": {},
   "outputs": [
    {
     "name": "stderr",
     "output_type": "stream",
     "text": [
      "Using TensorFlow backend.\n",
      "/home/ramesh/anaconda2/lib/python2.7/site-packages/sklearn/cross_validation.py:41: DeprecationWarning: This module was deprecated in version 0.18 in favor of the model_selection module into which all the refactored classes and functions are moved. Also note that the interface of the new CV iterators are different from that of this module. This module will be removed in 0.20.\n",
      "  \"This module will be removed in 0.20.\", DeprecationWarning)\n"
     ]
    }
   ],
   "source": [
    "from __future__ import division\n",
    "import pickle\n",
    "from keras.models import Sequential\n",
    "from keras.layers import *\n",
    "from keras.layers.advanced_activations import PReLU\n",
    "#utilities help us transform our data\n",
    "from keras.utils import * \n",
    "from sklearn.cross_validation import train_test_split\n",
    "from keras.callbacks import EarlyStopping, ModelCheckpoint, CSVLogger\n",
    "import tensorflow as tf\n",
    "from keras.utils import * "
   ]
  },
  {
   "cell_type": "code",
   "execution_count": 2,
   "metadata": {},
   "outputs": [],
   "source": [
    "#Load pre-processed trained and test data\n",
    "\n",
    "pickle_file = 'SVHN_list_single_digit.pickle'\n",
    "\n",
    "with open(pickle_file, 'rb') as f:\n",
    "  save = pickle.load(f)\n",
    "  train_dataset = save['train_dataset']\n",
    "  train_labels = save['train_labels']\n",
    "  valid_dataset = save['valid_dataset']\n",
    "  valid_labels = save['valid_labels']\n",
    "  test_dataset = save['test_dataset']\n",
    "  test_labels = save['test_labels']\n",
    "\n",
    "  del save  # hint to help gc free up memory\n",
    "# print(valid_labels.shape)\n",
    "# print(valid_labels)"
   ]
  },
  {
   "cell_type": "code",
   "execution_count": 3,
   "metadata": {},
   "outputs": [
    {
     "name": "stdout",
     "output_type": "stream",
     "text": [
      "('Training set and labels', 58606, (58606, 10))\n",
      "('Validation set and labels ', 14651, (14651, 10))\n",
      "('Test set and labels', 26032, (26032, 10))\n"
     ]
    }
   ],
   "source": [
    "  print('Training set and labels', len(train_dataset), (train_labels).shape)\n",
    "  print('Validation set and labels ', len(valid_dataset), (valid_labels).shape)\n",
    "  print('Test set and labels', len(test_dataset), (test_labels).shape)"
   ]
  },
  {
   "cell_type": "code",
   "execution_count": 44,
   "metadata": {
    "collapsed": true
   },
   "outputs": [],
   "source": [
    "# train_labels"
   ]
  },
  {
   "cell_type": "code",
   "execution_count": 45,
   "metadata": {
    "collapsed": true
   },
   "outputs": [],
   "source": [
    "# np_utils.to_categorical(train_labels[:,1],6)"
   ]
  },
  {
   "cell_type": "code",
   "execution_count": 46,
   "metadata": {
    "collapsed": true
   },
   "outputs": [],
   "source": [
    "# np_utils.to_categorical?"
   ]
  },
  {
   "cell_type": "code",
   "execution_count": 47,
   "metadata": {
    "collapsed": true
   },
   "outputs": [],
   "source": [
    "# labe = np_utils.to_categorical(train_labels[:,0],6)\n",
    "# print labe"
   ]
  },
  {
   "cell_type": "code",
   "execution_count": 48,
   "metadata": {},
   "outputs": [
    {
     "data": {
      "text/plain": [
       "array([ 3,  1,  4,  3, 10, 10])"
      ]
     },
     "execution_count": 48,
     "metadata": {},
     "output_type": "execute_result"
    }
   ],
   "source": [
    "# train_labels[0]"
   ]
  },
  {
   "cell_type": "code",
   "execution_count": 4,
   "metadata": {
    "collapsed": true
   },
   "outputs": [],
   "source": [
    "# Generate images according to batch size\n",
    "def gen(dataset, labels, batch_size):\n",
    "    \n",
    "#     print \"calling\"\n",
    "    i = 0\n",
    "    images = []\n",
    "    digits = []\n",
    "#     print batch_size\n",
    "    while True:\n",
    "\n",
    "        images.append(dataset[i])\n",
    "        digits.append(labels[i]) \n",
    "        i+=1\n",
    "        # Generate images based on batch size\n",
    "        if i == batch_size:\n",
    "#             print np.array(images)\n",
    "            yield np.array(images), np.array(digits)\n",
    "            print len(images)\n",
    "            images = []\n",
    "            digits = []\n",
    "            i = 0\n",
    "        # Generate remaining images also\n",
    "        if len(images) == 0:\n",
    "            continue\n",
    "            \n",
    "        yield np.array(images), np.array(digits)"
   ]
  },
  {
   "cell_type": "code",
   "execution_count": 8,
   "metadata": {
    "collapsed": true
   },
   "outputs": [],
   "source": [
    "model_save_path = 'TrainedModel_single.hdf5'\n",
    "num_classes = 10\n",
    "\n",
    "image_size =32, 32, 1\n",
    "# print image_size\n",
    "batch_size = 32\n",
    "num_epochs = 30\n",
    "train = gen(train_dataset, train_labels, batch_size)\n",
    "# print next(train)\n",
    "valid = gen(valid_dataset, valid_labels, batch_size)"
   ]
  },
  {
   "cell_type": "code",
   "execution_count": 9,
   "metadata": {},
   "outputs": [],
   "source": [
    "# next(gen(train_dataset, train_labels, batch_size))"
   ]
  },
  {
   "cell_type": "code",
   "execution_count": 12,
   "metadata": {},
   "outputs": [
    {
     "name": "stderr",
     "output_type": "stream",
     "text": [
      "/home/ramesh/anaconda2/lib/python2.7/site-packages/ipykernel_launcher.py:7: UserWarning: Update your `Conv2D` call to the Keras 2 API: `Conv2D(16, (5, 5), padding=\"same\", input_shape=(32, 32, 1...)`\n",
      "  import sys\n",
      "/home/ramesh/anaconda2/lib/python2.7/site-packages/ipykernel_launcher.py:10: UserWarning: Update your `AveragePooling2D` call to the Keras 2 API: `AveragePooling2D(padding=\"same\", strides=(2, 2), pool_size=(5, 5))`\n",
      "  # Remove the CWD from sys.path while we load stuff.\n",
      "/home/ramesh/anaconda2/lib/python2.7/site-packages/ipykernel_launcher.py:13: UserWarning: Update your `Conv2D` call to the Keras 2 API: `Conv2D(32, (7, 7), padding=\"same\")`\n",
      "  del sys.path[0]\n",
      "/home/ramesh/anaconda2/lib/python2.7/site-packages/ipykernel_launcher.py:16: UserWarning: Update your `AveragePooling2D` call to the Keras 2 API: `AveragePooling2D(padding=\"same\", strides=(2, 2), pool_size=(3, 3))`\n",
      "  app.launch_new_instance()\n",
      "/home/ramesh/anaconda2/lib/python2.7/site-packages/ipykernel_launcher.py:19: UserWarning: Update your `Conv2D` call to the Keras 2 API: `Conv2D(96, (5, 5), padding=\"same\")`\n",
      "/home/ramesh/anaconda2/lib/python2.7/site-packages/ipykernel_launcher.py:22: UserWarning: Update your `AveragePooling2D` call to the Keras 2 API: `AveragePooling2D(padding=\"same\", strides=(2, 2), pool_size=(3, 3))`\n"
     ]
    },
    {
     "name": "stdout",
     "output_type": "stream",
     "text": [
      "_________________________________________________________________\n",
      "Layer (type)                 Output Shape              Param #   \n",
      "=================================================================\n",
      "conv2d_1 (Conv2D)            (None, 32, 32, 16)        416       \n",
      "_________________________________________________________________\n",
      "p_re_lu_1 (PReLU)            (None, 32, 32, 16)        16384     \n",
      "_________________________________________________________________\n",
      "batch_normalization_1 (Batch (None, 32, 32, 16)        64        \n",
      "_________________________________________________________________\n",
      "average_pooling2d_1 (Average (None, 16, 16, 16)        0         \n",
      "_________________________________________________________________\n",
      "conv2d_2 (Conv2D)            (None, 16, 16, 32)        25120     \n",
      "_________________________________________________________________\n",
      "p_re_lu_2 (PReLU)            (None, 16, 16, 32)        8192      \n",
      "_________________________________________________________________\n",
      "batch_normalization_2 (Batch (None, 16, 16, 32)        128       \n",
      "_________________________________________________________________\n",
      "average_pooling2d_2 (Average (None, 8, 8, 32)          0         \n",
      "_________________________________________________________________\n",
      "conv2d_3 (Conv2D)            (None, 8, 8, 96)          76896     \n",
      "_________________________________________________________________\n",
      "p_re_lu_3 (PReLU)            (None, 8, 8, 96)          6144      \n",
      "_________________________________________________________________\n",
      "batch_normalization_3 (Batch (None, 8, 8, 96)          384       \n",
      "_________________________________________________________________\n",
      "average_pooling2d_3 (Average (None, 4, 4, 96)          0         \n",
      "_________________________________________________________________\n",
      "flatten_1 (Flatten)          (None, 1536)              0         \n",
      "_________________________________________________________________\n",
      "dense_1 (Dense)              (None, 32)                49184     \n",
      "_________________________________________________________________\n",
      "p_re_lu_4 (PReLU)            (None, 32)                32        \n",
      "_________________________________________________________________\n",
      "dense_2 (Dense)              (None, 24)                792       \n",
      "_________________________________________________________________\n",
      "p_re_lu_5 (PReLU)            (None, 24)                24        \n",
      "_________________________________________________________________\n",
      "dropout_1 (Dropout)          (None, 24)                0         \n",
      "_________________________________________________________________\n",
      "dense_3 (Dense)              (None, 10)                250       \n",
      "_________________________________________________________________\n",
      "activation_1 (Activation)    (None, 10)                0         \n",
      "=================================================================\n",
      "Total params: 184,010\n",
      "Trainable params: 183,722\n",
      "Non-trainable params: 288\n",
      "_________________________________________________________________\n",
      "None\n",
      "int(len(train_dataset)/batch_size)  1831\n"
     ]
    },
    {
     "name": "stderr",
     "output_type": "stream",
     "text": [
      "/home/ramesh/anaconda2/lib/python2.7/site-packages/ipykernel_launcher.py:18: UserWarning: Update your `fit_generator` call to the Keras 2 API: `fit_generator(<generator..., verbose=1, validation_data=<generator..., steps_per_epoch=1832.0, callbacks=[<keras.ca..., validation_steps=32)`\n"
     ]
    },
    {
     "name": "stdout",
     "output_type": "stream",
     "text": [
      "Epoch 1/1\n",
      "  22/1832 [..............................] - ETA: 7:18 - loss: 1.9576 - acc: 0.310632\n",
      "  54/1832 [..............................] - ETA: 6:00 - loss: 1.5301 - acc: 0.472532\n",
      "  86/1832 [>.............................] - ETA: 5:30 - loss: 1.2650 - acc: 0.559932\n",
      " 118/1832 [>.............................] - ETA: 5:12 - loss: 1.0551 - acc: 0.641032\n",
      " 150/1832 [=>............................] - ETA: 5:01 - loss: 0.9088 - acc: 0.683932\n",
      " 182/1832 [=>............................] - ETA: 4:51 - loss: 0.8040 - acc: 0.718932\n",
      " 214/1832 [==>...........................] - ETA: 4:43 - loss: 0.7210 - acc: 0.748832\n",
      " 246/1832 [===>..........................] - ETA: 4:36 - loss: 0.6556 - acc: 0.771832\n",
      " 278/1832 [===>..........................] - ETA: 4:30 - loss: 0.6025 - acc: 0.791632\n",
      " 310/1832 [====>.........................] - ETA: 4:23 - loss: 0.5596 - acc: 0.806632\n",
      " 342/1832 [====>.........................] - ETA: 4:18 - loss: 0.5211 - acc: 0.819632\n",
      " 374/1832 [=====>........................] - ETA: 4:14 - loss: 0.4888 - acc: 0.829932\n",
      " 406/1832 [=====>........................] - ETA: 4:08 - loss: 0.4639 - acc: 0.839532\n",
      " 438/1832 [======>.......................] - ETA: 4:02 - loss: 0.4407 - acc: 0.847332\n",
      " 470/1832 [======>.......................] - ETA: 3:56 - loss: 0.4166 - acc: 0.856032\n",
      " 502/1832 [=======>......................] - ETA: 3:50 - loss: 0.3962 - acc: 0.863432\n",
      " 534/1832 [=======>......................] - ETA: 3:44 - loss: 0.3776 - acc: 0.869732\n",
      " 566/1832 [========>.....................] - ETA: 3:38 - loss: 0.3612 - acc: 0.875132\n",
      " 598/1832 [========>.....................] - ETA: 3:32 - loss: 0.3461 - acc: 0.880032\n",
      " 630/1832 [=========>....................] - ETA: 3:27 - loss: 0.3315 - acc: 0.885332\n",
      " 662/1832 [=========>....................] - ETA: 3:21 - loss: 0.3177 - acc: 0.890232\n",
      " 694/1832 [==========>...................] - ETA: 3:15 - loss: 0.3056 - acc: 0.894532\n",
      " 726/1832 [==========>...................] - ETA: 3:09 - loss: 0.2938 - acc: 0.898932\n",
      " 758/1832 [===========>..................] - ETA: 3:04 - loss: 0.2839 - acc: 0.902132\n",
      " 790/1832 [===========>..................] - ETA: 2:59 - loss: 0.2747 - acc: 0.905232\n",
      " 822/1832 [============>.................] - ETA: 2:53 - loss: 0.2652 - acc: 0.908532\n",
      " 854/1832 [============>.................] - ETA: 2:48 - loss: 0.2564 - acc: 0.911832\n",
      " 886/1832 [=============>................] - ETA: 2:42 - loss: 0.2488 - acc: 0.914332\n",
      " 918/1832 [==============>...............] - ETA: 2:37 - loss: 0.2413 - acc: 0.917032\n",
      " 950/1832 [==============>...............] - ETA: 2:31 - loss: 0.2339 - acc: 0.919432\n",
      " 982/1832 [===============>..............] - ETA: 2:25 - loss: 0.2271 - acc: 0.921932\n",
      "1014/1832 [===============>..............] - ETA: 2:20 - loss: 0.2206 - acc: 0.924232\n",
      "1046/1832 [================>.............] - ETA: 2:15 - loss: 0.2146 - acc: 0.926232\n",
      "1078/1832 [================>.............] - ETA: 2:10 - loss: 0.2088 - acc: 0.928232\n",
      "1110/1832 [=================>............] - ETA: 2:04 - loss: 0.2032 - acc: 0.930232\n",
      "1142/1832 [=================>............] - ETA: 1:59 - loss: 0.1980 - acc: 0.932032\n",
      "1174/1832 [==================>...........] - ETA: 1:53 - loss: 0.1932 - acc: 0.933732\n",
      "1206/1832 [==================>...........] - ETA: 1:48 - loss: 0.1886 - acc: 0.935332\n",
      "1238/1832 [===================>..........] - ETA: 1:42 - loss: 0.1843 - acc: 0.936832\n",
      "1270/1832 [===================>..........] - ETA: 1:37 - loss: 0.1801 - acc: 0.938232\n",
      "1302/1832 [====================>.........] - ETA: 1:31 - loss: 0.1761 - acc: 0.939532\n",
      "1334/1832 [====================>.........] - ETA: 1:25 - loss: 0.1724 - acc: 0.940932\n",
      "1366/1832 [=====================>........] - ETA: 1:20 - loss: 0.1688 - acc: 0.942132\n",
      "1398/1832 [=====================>........] - ETA: 1:14 - loss: 0.1657 - acc: 0.943132\n",
      "1430/1832 [======================>.......] - ETA: 1:09 - loss: 0.1625 - acc: 0.944232\n",
      "1462/1832 [======================>.......] - ETA: 1:03 - loss: 0.1592 - acc: 0.945432\n",
      "1494/1832 [=======================>......] - ETA: 58s - loss: 0.1561 - acc: 0.946432\n",
      "1526/1832 [=======================>......] - ETA: 52s - loss: 0.1530 - acc: 0.947532\n",
      "1558/1832 [========================>.....] - ETA: 47s - loss: 0.1501 - acc: 0.948532\n",
      "1590/1832 [=========================>....] - ETA: 41s - loss: 0.1473 - acc: 0.949532\n",
      "1622/1832 [=========================>....] - ETA: 36s - loss: 0.1446 - acc: 0.950532\n",
      "1654/1832 [==========================>...] - ETA: 30s - loss: 0.1420 - acc: 0.951432\n",
      "1686/1832 [==========================>...] - ETA: 25s - loss: 0.1395 - acc: 0.952132\n",
      "1718/1832 [===========================>..] - ETA: 19s - loss: 0.1373 - acc: 0.953032\n",
      "1750/1832 [===========================>..] - ETA: 14s - loss: 0.1349 - acc: 0.953832\n",
      "1782/1832 [============================>.] - ETA: 8s - loss: 0.1327 - acc: 0.954532\n",
      "1814/1832 [============================>.] - ETA: 3s - loss: 0.1308 - acc: 0.955032\n",
      "1831/1832 [============================>.] - ETA: 0s - loss: 0.1299 - acc: 0.955332\n",
      "1832/1832 [==============================] - 321s 175ms/step - loss: 0.1298 - acc: 0.9553 - val_loss: 7.9472 - val_acc: 0.2216\n"
     ]
    },
    {
     "data": {
      "text/plain": [
       "<keras.callbacks.History at 0x7f74dcb4dc50>"
      ]
     },
     "execution_count": 12,
     "metadata": {},
     "output_type": "execute_result"
    }
   ],
   "source": [
    "model = CNN(image_size, num_classes)\n",
    "model.compile(optimizer='adam', loss='categorical_crossentropy',\n",
    "                                        metrics=['accuracy'])\n",
    "print model.summary()\n",
    "csv_logger = CSVLogger('training.log')\n",
    "early_stop = EarlyStopping('val_acc', patience=200, verbose=1)\n",
    "model_checkpoint = ModelCheckpoint(model_save_path,\n",
    "                                    'val_acc', verbose=0,\n",
    "                                    save_best_only=True)\n",
    "\n",
    "model_callbacks = [early_stop, model_checkpoint, csv_logger]\n",
    "# print \"len(train_dataset) \", len(train_dataset)\n",
    "print \"int(len(train_dataset)/batch_size) \", int(len(train_dataset)/batch_size)\n",
    "K.get_session().run(tf.global_variables_initializer())\n",
    "model.fit_generator(train, samples_per_epoch=np.ceil(len(train_dataset)/batch_size), verbose=1, \n",
    "                                    validation_data=valid,\n",
    "                                    validation_steps = batch_size,\n",
    "                                    callbacks=model_callbacks)"
   ]
  },
  {
   "cell_type": "markdown",
   "metadata": {},
   "source": [
    "# Model"
   ]
  },
  {
   "cell_type": "code",
   "execution_count": 11,
   "metadata": {
    "collapsed": true
   },
   "outputs": [],
   "source": [
    "def CNN(input_shape, num_of_classes):\n",
    "    \n",
    "    model = Sequential()\n",
    "    #formula to compute number of parameters\n",
    "    # total_params =(filter_height * filter_width * input_image_channels + 1) * number_of_filters\n",
    "    model.add(Convolution2D(16, 5, 5, border_mode='same',\n",
    "                            input_shape= input_shape ))\n",
    "    model.add(PReLU())\n",
    "    model.add(BatchNormalization())\n",
    "    model.add(AveragePooling2D(pool_size=(5, 5),strides=(2, 2), border_mode='same'))\n",
    "#     model.add(Dropout(.5))\n",
    "    \n",
    "    model.add(Convolution2D(32, 7, 7, border_mode='same'))\n",
    "    model.add(PReLU())\n",
    "    model.add(BatchNormalization())\n",
    "    model.add(AveragePooling2D(pool_size=(3, 3),strides=(2, 2), border_mode='same'))\n",
    "#     model.add(Dropout(.5))\n",
    "\n",
    "    model.add(Convolution2D(96, 5, 5, border_mode='same'))\n",
    "    model.add(PReLU())\n",
    "    model.add(BatchNormalization())\n",
    "    model.add(AveragePooling2D(pool_size=(3, 3),strides=(2, 2), border_mode='same'))\n",
    "\n",
    "    #fully connected laye\n",
    "    model.add(Flatten())\n",
    "    model.add(Dense(32))\n",
    "    model.add(PReLU())\n",
    "#     model.add(Dropout(32))\n",
    "    model.add(Dense(24))\n",
    "    model.add(PReLU())\n",
    "    model.add(Dropout(0.5))\n",
    "    model.add(Dense(num_classes))\n",
    "    model.add(Activation('softmax'))\n",
    "    \n",
    "    return model"
   ]
  },
  {
   "cell_type": "code",
   "execution_count": null,
   "metadata": {
    "collapsed": true
   },
   "outputs": [],
   "source": []
  },
  {
   "cell_type": "code",
   "execution_count": null,
   "metadata": {
    "collapsed": true
   },
   "outputs": [],
   "source": []
  }
 ],
 "metadata": {
  "kernelspec": {
   "display_name": "Python 2",
   "language": "python",
   "name": "python2"
  },
  "language_info": {
   "codemirror_mode": {
    "name": "ipython",
    "version": 2
   },
   "file_extension": ".py",
   "mimetype": "text/x-python",
   "name": "python",
   "nbconvert_exporter": "python",
   "pygments_lexer": "ipython2",
   "version": "2.7.14"
  }
 },
 "nbformat": 4,
 "nbformat_minor": 2
}
