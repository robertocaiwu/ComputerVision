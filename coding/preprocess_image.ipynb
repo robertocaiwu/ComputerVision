{
 "cells": [
  {
   "cell_type": "code",
   "execution_count": 1,
   "metadata": {},
   "outputs": [
    {
     "name": "stdout",
     "output_type": "stream",
     "text": [
      "Populating the interactive namespace from numpy and matplotlib\n"
     ]
    }
   ],
   "source": [
    "import sys\n",
    "import os\n",
    "import cv2 \n",
    "import glob\n",
    "import json\n",
    "import h5py\n",
    "import pandas as pd\n",
    "import numpy as np\n",
    "import matplotlib.pyplot as plt\n",
    "from PIL import Image, ImageDraw\n",
    "from scipy.io import loadmat\n",
    "# from IPython.display import display, Image, HTML\n",
    "%pylab inline"
   ]
  },
  {
   "cell_type": "code",
   "execution_count": 2,
   "metadata": {},
   "outputs": [],
   "source": [
    "# train_image_filenames = sorted(glob.iglob('./data/images/train/*.png'))\n",
    "# for file in train_image_filenames[:1]:\n",
    "#     print(file)\n",
    "#     img = cv2.imread(file,0)\n",
    "#     cv2.imshow('image',img)\n",
    "#     cv2.waitKey(0)\n",
    "#     cv2.destroyAllWindows()\n",
    "def get_attrs(digit_struct_mat_file, index):\n",
    "    \"\"\"\n",
    "    Returns a dictionary which contains keys: label, left, top, width and height, each key has multiple values.\n",
    "    \"\"\"\n",
    "    attrs = {}\n",
    "    f = digit_struct_mat_file\n",
    "    item = f['digitStruct']['bbox'][index].item()\n",
    "    for key in ['label', 'left', 'top', 'width', 'height']:\n",
    "        attr = f[item][key]\n",
    "        values = [f[attr.value[i].item()].value[0][0]\n",
    "                  for i in range(len(attr))] if len(attr) > 1 else [attr.value[0][0]]\n",
    "        attrs[key] = values\n",
    "    return attrs"
   ]
  },
  {
   "cell_type": "code",
   "execution_count": 3,
   "metadata": {},
   "outputs": [],
   "source": [
    "\n",
    "# path_to_digit_struct_mat_file = os.path.join(path_to_dir, 'digitStruct.mat')train_data = loadmat('./data/mat/train_32x32.mat', variable_names='X').get('X')\n",
    "# train_labels = loadmat('./data/mat/train_32x32.mat', variable_names='y').get('y')\n",
    "# test_data = loadmat('./data/mat/test_32x32.mat', variable_names='X').get('X')\n",
    "# test_labels = loadmat('./data/mat/test_32x32.mat', variable_names='y').get('y')\n",
    "# extra_data = loadmat('./data/mat/extra_32x32.mat', variable_names='X').get('X')\n",
    "# extra_labels = loadmat('./data/mat/extra_32x32.mat', variable_names='y').get('y')\n",
    "# print(train_data.shape, train_labels.shape)\n",
    "# print(test_data.shape, test_labels.shape)\n",
    "# print(extra_data.shape, extra_labels.shape)"
   ]
  },
  {
   "cell_type": "code",
   "execution_count": 4,
   "metadata": {},
   "outputs": [],
   "source": [
    "path_to_dir = './train'"
   ]
  },
  {
   "cell_type": "code",
   "execution_count": 140,
   "metadata": {},
   "outputs": [
    {
     "name": "stdout",
     "output_type": "stream",
     "text": [
      "path  ./train/13122.png\n",
      "index  13121\n",
      "label box  3.0  box  27 4 16 25\n",
      "label box  3.0  box  43 3 15 25\n",
      "label box  2.0  box  59 3 16 25\n",
      "\n",
      "crop left, crop top, crop width, crop height  20 -15 62 62\n",
      "\n",
      "min_left=27, min_top=3, max_right=75, max_bottom=29\n",
      "center_x=51.0, center_y=16.0, max_side=48\n",
      "bbox: left=27.0, top=-8.0, width=48, height=48\n"
     ]
    }
   ],
   "source": [
    "path_to_image_file = os.path.join(path_to_dir, '13122.png')\n",
    "print (\"path \", path_to_image_file)\n",
    "index = int(path_to_image_file.split('/')[-1].split('.')[0]) - 1\n",
    "print (\"index \", index)\n",
    "with h5py.File('./train/digitStruct.mat', 'r') as digit_struct_mat_file:\n",
    "    attrs = get_attrs(digit_struct_mat_file, index)\n",
    "    length = len(attrs['label'])\n",
    "#     print (\"attrs \", attrs)\n",
    "#     print (\"label \", attrs['label'])\n",
    "#     for i in range(length):\n",
    "#         print (\"label box \", attrs['label'][i], \" box \", attrs['left'][i], attrs['top'][i], attrs['width'][i], \n",
    "#                attrs['height'][i] )\n",
    "# #     print (\"length\", length)\n",
    "#     print(\"left, top, width, height\", attrs['left'],attrs['top'], attrs['width'], attrs['height'])\n",
    "    # convert left, top, width, height of image in integer\n",
    "    attrs_left, attrs_top, attrs_width, attrs_height = map(lambda x: [int(i) for i in x],\n",
    "                                                       [attrs['left'], attrs['top'], attrs['width'], attrs['height']])\n",
    "    \n",
    "    for i in range(length):\n",
    "        print (\"label box \", attrs['label'][i], \" box \", attrs_left[i], attrs_top[i], attrs_width[i], \n",
    "               attrs_height[i])\n",
    "    print (\"\")\n",
    "#     print (\"left, top, width, height\", attrs_left, attrs_top, attrs_width, attrs_height)\n",
    "    min_left, min_top, max_right, max_bottom = (min(attrs_left),\n",
    "                                                min(attrs_top),\n",
    "                                                max(map(lambda x, y: x + y, attrs_left, attrs_width)),\n",
    "                                                max(map(lambda x, y: x + y, attrs_top, attrs_height)))\n",
    "    \n",
    "#     for i in range(length):\n",
    "#         print (\"label box \", attrs['label'][i], \" Min boxes \", min_left, min_top, max_right, \n",
    "#                max_bottom)\n",
    "\n",
    "    center_x, center_y, max_side = ((min_left + max_right) / 2.0,\n",
    "                                    (min_top + max_bottom) / 2.0,\n",
    "                                    max(max_right - min_left, max_bottom - min_top))\n",
    "    \n",
    "    bbox_left, bbox_top, bbox_width, bbox_height = (center_x - max_side / 2.0, \n",
    "                                                    center_y - max_side / 2.0, \n",
    "                                                    max_side,\n",
    "                                                    max_side)\n",
    "    \n",
    "#     print (\"box left, box top, box width, height\", bbox_left, bbox_top, bbox_width, bbox_height)\n",
    "    \n",
    "    cropped_left, cropped_top, cropped_width, cropped_height = (int(round(bbox_left - 0.15 * bbox_width)),\n",
    "                                                                int(round(bbox_top - 0.15 * bbox_height)),\n",
    "                                                                int(round(bbox_width * 1.3)),\n",
    "                                                                int(round(bbox_height * 1.3)))\n",
    "    print(\"crop left, crop top, crop width, crop height \", cropped_left, cropped_top, cropped_width, cropped_height)\n",
    "\n",
    "print (\"\")\n",
    "print('min_left=%d, min_top=%d, max_right=%d, max_bottom=%d' % (min_left, min_top, max_right, max_bottom))\n",
    "print('center_x=%.1f, center_y=%.1f, max_side=%d' % (center_x, center_y, max_side))\n",
    "print('bbox: left=%.1f, top=%.1f, width=%d, height=%d' % (bbox_left, bbox_top, bbox_width, bbox_height))\n",
    "# print('cropped: left=%d, top=%d, width=%d, height=%d' % (cropped_left, cropped_top, cropped_width, cropped_height))"
   ]
  },
  {
   "cell_type": "code",
   "execution_count": 141,
   "metadata": {},
   "outputs": [
    {
     "data": {
      "image/png": "[encoded data removed]",
      "text/plain": [
       "<matplotlib.figure.Figure at 0x7fee9caed6a0>"
      ]
     },
     "metadata": {},
     "output_type": "display_data"
    }
   ],
   "source": [
    "image = Image.open(path_to_image_file)\n",
    "# image = image.crop((cropped_left, cropped_top, cropped_width+cropped_left, cropped_height+cropped_top))\n",
    "# image = image[cropped_left:cropped_top,cropped_left, cropped_top]/\n",
    "# image = image[cropped_top:cropped_height+cropped_top, cropped_left:cropped_left+cropped_width] \n",
    "\n",
    "# image = image[12:70+12, 61:61+61]\n",
    "# plt.show(image)\n",
    "plt.figure()\n",
    "currentAxis = plt.gca()\n",
    "currentAxis.imshow(image)\n",
    "currentAxis.add_patch(Rectangle((cropped_left, cropped_top), cropped_width, cropped_height, fill=False, edgecolor='red'))\n",
    "# currentAxis.add_patch(Rectangle((bbox_left, bbox_top), bbox_width, bbox_height, fill=False, edgecolor='black'))\n",
    "for attr_left, attr_top, attr_width, attr_height in zip(attrs_left, attrs_top, attrs_width, attrs_height):\n",
    "    currentAxis.add_patch(Rectangle((attr_left, attr_top), attr_width, attr_height, fill=False, edgecolor='white', linestyle='dotted'))\n",
    "plt.show()"
   ]
  },
  {
   "cell_type": "code",
   "execution_count": 142,
   "metadata": {},
   "outputs": [
    {
     "data": {
      "image/png": "[encoded data removed]",
      "text/plain": [
       "<PIL.Image.Image image mode=RGB size=62x62 at 0x7FEE9C0A39E8>"
      ]
     },
     "execution_count": 142,
     "metadata": {},
     "output_type": "execute_result"
    }
   ],
   "source": [
    "image = Image.open(path_to_image_file)\n",
    "# image\n",
    "image.crop((cropped_left, cropped_top, cropped_width+cropped_left, cropped_height+cropped_top))"
   ]
  },
  {
   "cell_type": "code",
   "execution_count": null,
   "metadata": {},
   "outputs": [],
   "source": []
  }
 ],
 "metadata": {
  "anaconda-cloud": {},
  "kernelspec": {
   "display_name": "Python [conda env:python3]",
   "language": "python",
   "name": "conda-env-python3-py"
  },
  "language_info": {
   "codemirror_mode": {
    "name": "ipython",
    "version": 3
   },
   "file_extension": ".py",
   "mimetype": "text/x-python",
   "name": "python",
   "nbconvert_exporter": "python",
   "pygments_lexer": "ipython3",
   "version": "3.4.5"
  }
 },
 "nbformat": 4,
 "nbformat_minor": 2
}
