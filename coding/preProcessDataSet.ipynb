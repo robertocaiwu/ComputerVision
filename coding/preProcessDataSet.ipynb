{
 "cells": [
  {
   "cell_type": "code",
   "execution_count": 132,
   "metadata": {},
   "outputs": [],
   "source": [
    "import h5py\n",
    "import cv2\n",
    "import keras\n",
    "import scipy.io as sio\n",
    "import numpy as np\n",
    "import matplotlib.pyplot as plt\n",
    "%matplotlib inline\n",
    "import PIL\n",
    "from PIL import Image\n",
    "import pandas as pd\n",
    "from random import shuffle\n",
    "import os\n",
    "import random\n",
    "import pickle\n",
    "from keras.models import Sequential\n",
    "from keras.layers import *\n",
    "from keras.layers.advanced_activations import PReLU\n",
    "#utilities help us transform our data\n",
    "from keras.utils import * \n",
    "from sklearn.cross_validation import train_test_split\n",
    "from keras.callbacks import EarlyStopping, ModelCheckpoint, CSVLogger"
   ]
  },
  {
   "cell_type": "code",
   "execution_count": 2,
   "metadata": {
    "collapsed": true
   },
   "outputs": [],
   "source": [
    "class DigitStructure:\n",
    "    \n",
    "    def __init__(self, _filePath):\n",
    "        \n",
    "        self.loadFile = self.load_datafile(_filePath)\n",
    "        self.digitStruct = self.readDigitStruct(self.loadFile)\n",
    "        self.name = self.digitStruct['name']\n",
    "        self.boxLabels = self.digitStruct[\"bbox\"]\n",
    "        \n",
    "    def load_datafile(self, filepath):\n",
    "        \n",
    "        return h5py.File(filepath,'r')\n",
    "    \n",
    "    def readDigitStruct(self, datafile):\n",
    "        \n",
    "        return datafile[\"digitStruct\"]\n",
    "    \n",
    "    def getImageName(self, index):\n",
    "        \n",
    "        names = []\n",
    "        for i in self.loadFile[self.name[index][0]].value:\n",
    "            names.append(chr(i[0]))\n",
    "        return ''.join(names)\n",
    "    \n",
    "    def bboxExtractor(self, attr):\n",
    "        \n",
    "        if (len(attr) > 1):\n",
    "            attr = [self.loadFile[attr.value[j].item()].value[0][0] for j in range(len(attr))]\n",
    "        else:\n",
    "            attr = [attr.value[0][0]]\n",
    "        return attr\n",
    "    \n",
    "    # getBbox returns a dict of data for the n(th) bbox. \n",
    "    def getBboxAttributes(self,index):\n",
    "        \n",
    "        bbox = {}\n",
    "        bb = self.boxLabels[index].item()\n",
    "        bbox['height'] = self.bboxExtractor(self.loadFile[bb][\"height\"])\n",
    "        bbox['label'] = self.bboxExtractor(self.loadFile[bb][\"label\"])\n",
    "        bbox['left'] = self.bboxExtractor(self.loadFile[bb][\"left\"])\n",
    "        bbox['top'] = self.bboxExtractor(self.loadFile[bb][\"top\"])\n",
    "        bbox['width'] = self.bboxExtractor(self.loadFile[bb][\"width\"])\n",
    "        \n",
    "        return bbox\n",
    "            \n",
    "    def getDigitStructure(self,n):\n",
    "        \n",
    "        s = self.getBboxAttributes(n)\n",
    "        \n",
    "        s['name']=self.getImageName(n)\n",
    "        return s\n",
    "\n",
    "    # getAllDigitStructure returns all the digitStruct from the input file.     \n",
    "    def getAllDigitStructure(self):\n",
    "        \n",
    "        struct = []\n",
    "        for i in range(len(self.name)):\n",
    "            struct.append(self.getDigitStructure(i))\n",
    "        return struct\n",
    "    \n",
    "    def getAllDigitStructure_ByDigit(self):\n",
    "        \n",
    "        \n",
    "        digitDictionary = self.getAllDigitStructure()\n",
    "        result = []\n",
    "        structCnt = 1\n",
    "        for i in range(len(digitDictionary)):\n",
    "            item = { 'filename' : digitDictionary[i][\"name\"] }\n",
    "            digit_labels_in_each_image = []\n",
    "            for j in range(len(digitDictionary[i]['height'])):\n",
    "               number = {}\n",
    "               number['height'] = digitDictionary[i]['height'][j]\n",
    "               number['label']  = digitDictionary[i]['label'][j]\n",
    "               number['left']   = digitDictionary[i]['left'][j]\n",
    "               number['top']    = digitDictionary[i]['top'][j]\n",
    "               number['width']  = digitDictionary[i]['width'][j]\n",
    "               digit_labels_in_each_image.append(number)\n",
    "            structCnt = structCnt + 1\n",
    "            item['boxes'] = digit_labels_in_each_image\n",
    "            result.append(item)\n",
    "        return result\n",
    "    "
   ]
  },
  {
   "cell_type": "markdown",
   "metadata": {},
   "source": [
    "# Load Train Data"
   ]
  },
  {
   "cell_type": "code",
   "execution_count": 3,
   "metadata": {
    "collapsed": true
   },
   "outputs": [],
   "source": [
    "training_dataPath = './train/'\n",
    "train_digitStruct = training_dataPath + 'digitStruct.mat'\n",
    "digitStructure = DigitStructure(train_digitStruct)\n",
    "training_data = digitStructure.getAllDigitStructure_ByDigit()"
   ]
  },
  {
   "cell_type": "markdown",
   "metadata": {},
   "source": [
    "# Load Test Data"
   ]
  },
  {
   "cell_type": "code",
   "execution_count": 5,
   "metadata": {
    "collapsed": true
   },
   "outputs": [],
   "source": [
    "test_dataPath = './test/'\n",
    "test_digitStructure = test_dataPath + 'digitStruct.mat'\n",
    "digitStructure = DigitStructure(test_digitStructure)\n",
    "testing_data = digitStructure.getAllDigitStructure_ByDigit()"
   ]
  },
  {
   "cell_type": "markdown",
   "metadata": {},
   "source": [
    "# Load Extra Data"
   ]
  },
  {
   "cell_type": "code",
   "execution_count": null,
   "metadata": {
    "collapsed": true
   },
   "outputs": [],
   "source": [
    "extra_dataPath = './extra/'\n",
    "extra_digitStructure = extra_dataPath + 'digitStruct.mat'\n",
    "digitStructure = DigitStructure(extra_digitStructure)\n",
    "testing_data = digitStructure.getAllDigitStructure_ByDigit()"
   ]
  },
  {
   "cell_type": "code",
   "execution_count": 6,
   "metadata": {},
   "outputs": [],
   "source": [
    "import PIL.Image as Image\n",
    "\n",
    "def generate_dataset(data, folder):\n",
    "\n",
    "    dataset = np.ndarray([len(data),32,32], dtype='float32')\n",
    "    labels = np.ones([len(data),6], dtype=int) * 10\n",
    "    for i in np.arange(len(data)):\n",
    "        filename = data[i]['filename']\n",
    "        fullname = os.path.join(folder, filename)\n",
    "        im = Image.open(fullname)\n",
    "        boxes = data[i]['boxes']\n",
    "        num_digit = len(boxes)\n",
    "        labels[i,0] = num_digit\n",
    "        top = np.ndarray([num_digit], dtype='float32')\n",
    "        left = np.ndarray([num_digit], dtype='float32')\n",
    "        height = np.ndarray([num_digit], dtype='float32')\n",
    "        width = np.ndarray([num_digit], dtype='float32')\n",
    "        for j in np.arange(num_digit):\n",
    "            if j < 5: \n",
    "                labels[i,j+1] = boxes[j]['label']\n",
    "                if boxes[j]['label'] == 10: labels[i,j+1] = 0\n",
    "            else: print('#',i,'image has more than 5 digits.')\n",
    "            top[j] = boxes[j]['top']\n",
    "            left[j] = boxes[j]['left']\n",
    "            height[j] = boxes[j]['height']\n",
    "            width[j] = boxes[j]['width']\n",
    "        \n",
    "        im_top = np.amin(top)\n",
    "        im_left = np.amin(left)\n",
    "        im_height = np.amax(top) + height[np.argmax(top)] - im_top\n",
    "        im_width = np.amax(left) + width[np.argmax(left)] - im_left\n",
    "        \n",
    "        im_top = np.floor(im_top - 0.1 * im_height)\n",
    "        im_left = np.floor(im_left - 0.1 * im_width)\n",
    "        im_bottom = np.amin([np.ceil(im_top + 1.2 * im_height), im.size[1]])\n",
    "        im_right = np.amin([np.ceil(im_left + 1.2 * im_width), im.size[0]])\n",
    "\n",
    "        im = im.crop((im_left, im_top, im_right, im_bottom)).resize([32,32], Image.ANTIALIAS)\n",
    "        gray_image = im.convert(\"L\")\n",
    "#         im = np.dot(np.array(im, dtype='float32'), [[0.2989],[0.5870],[0.1140]])\n",
    "        mean = np.mean(gray_image, dtype='float32')\n",
    "        std = np.std(gray_image, dtype='float32', ddof=1)\n",
    "        if std < 1e-4: std = 1.\n",
    "        gray_image = (gray_image - mean) / std\n",
    "        \n",
    "        dataset[i,:,:] = gray_image[:,:]\n",
    "\n",
    "    return dataset, labels\n",
    "\n"
   ]
  },
  {
   "cell_type": "code",
   "execution_count": 7,
   "metadata": {},
   "outputs": [
    {
     "name": "stdout",
     "output_type": "stream",
     "text": [
      "('#', 29929, 'image has more than 5 digits.')\n",
      "((33402, 32, 32), (33402, 6))\n"
     ]
    }
   ],
   "source": [
    "train_dataset, train_labels = generate_dataset(training_data, training_dataPath)\n",
    "print(train_dataset.shape, train_labels.shape)"
   ]
  },
  {
   "cell_type": "code",
   "execution_count": 8,
   "metadata": {},
   "outputs": [
    {
     "name": "stdout",
     "output_type": "stream",
     "text": [
      "((33402, 32, 32), (33402, 6))\n"
     ]
    }
   ],
   "source": [
    "test_dataset, test_labels = generate_dataset(testing_data, test_dataPath)\n"
   ]
  },
  {
   "cell_type": "code",
   "execution_count": 9,
   "metadata": {},
   "outputs": [
    {
     "name": "stdout",
     "output_type": "stream",
     "text": [
      "((13068, 32, 32), (13068, 6))\n"
     ]
    }
   ],
   "source": [
    "print(test_dataset.shape, test_labels.shape)"
   ]
  },
  {
   "cell_type": "code",
   "execution_count": 5,
   "metadata": {},
   "outputs": [
    {
     "name": "stdout",
     "output_type": "stream",
     "text": [
      "33402\n"
     ]
    }
   ],
   "source": [
    "print len(training_data)"
   ]
  },
  {
   "cell_type": "code",
   "execution_count": 121,
   "metadata": {},
   "outputs": [],
   "source": [
    "\n",
    "class PreProcessDataSet:\n",
    "    \n",
    "    def __init__(self, data, path):\n",
    "        \n",
    "        self.data = data\n",
    "        self.path = path\n",
    "        self.image_size = (32,32)\n",
    "        self.dataSet = \\\n",
    "                np.ndarray([len(self.data), 32, 32], dtype = 'float32')\n",
    "            \n",
    "        self.total_digits = 6  #data set contains maximum 6 digits\n",
    "        # initialize all elements with 10\n",
    "        self.labels = np.ones([len(self.data), self.total_digits], dtype=int) * 10\n",
    "        self.number_of_labels = 10\n",
    "        self.validation_index = []\n",
    "        self.training_index = []\n",
    "    \n",
    "    def preProcess(self):\n",
    "        \n",
    "        for i in np.arange(len(self.dataSet)):\n",
    "            get_filename = self.data[i][\"filename\"]\n",
    "            filename = self.path + get_filename\n",
    "            read_image = Image.open(filename)\n",
    "            image_size = read_image.size\n",
    "#             print \"imamage size \", image_size[0]\n",
    "            boxList = self.data[i]['boxes']\n",
    "            number_of_digits = len(boxList)\n",
    "            self.labels[i, 0] = number_of_digits\n",
    "            #initalize arrays(top, left, height, width) based on num of digits\n",
    "            height = np.ndarray([number_of_digits], dtype='float32') \n",
    "            width = np.ndarray([number_of_digits], dtype='float32')\n",
    "            top = np.ndarray([number_of_digits], dtype='float32')\n",
    "            left = np.ndarray([number_of_digits], dtype='float32')\n",
    "            \n",
    "            for digits in np.arange(number_of_digits):\n",
    "                \n",
    "                if digits < 5:\n",
    "                    self.labels[i, digits+1] = boxList[digits]['label']\n",
    "                    #if digit is 10, we consider it as 0\n",
    "                    if boxList[digits]['label'] == 10:\n",
    "                        self.labels[i, digits+1] = 0\n",
    "                        \n",
    "                else: print('#',i,'image has more than 5 digits.')\n",
    "                    \n",
    "                height[digits] = boxList[digits]['height'] \n",
    "                width[digits] = boxList[digits]['width']\n",
    "                top[digits] = boxList[digits]['top']\n",
    "                left[digits] = boxList[digits]['left']\n",
    "                    \n",
    "\n",
    "            #compute top left heigh and width of image\n",
    "            image_top = np.amin(top)\n",
    "            image_left = np.amin(left)\n",
    "            image_height = np.amax(top) + height[np.argmax(top)] - image_top\n",
    "            image_width = np.amax(left) + width[np.argmax(left)] - image_left\n",
    "            \n",
    "        \n",
    "            #adjust to make them feasible for cropping\n",
    "            image_top = np.floor(image_top - 0.1 * image_height)\n",
    "            image_left = np.floor(image_left - 0.1 * image_width)\n",
    "            image_bottom = np.amin([np.ceil(image_top + 1.2 * image_height), image_size[1]])\n",
    "            image_right = np.amin([np.ceil(image_left + 1.2 * image_width), image_size[0]])\n",
    "            \n",
    "            \n",
    "            read_image = \\\n",
    "                read_image.crop((image_left, image_top, image_right, image_bottom)).resize([32,32], Image.ANTIALIAS)\n",
    "\n",
    "            gray_image = read_image.convert(\"L\")            \n",
    "            gray_image = self.normalization(gray_image)\n",
    "            \n",
    "            self.dataSet[i,:,:] = gray_image[:,:]\n",
    "            \n",
    "        return self.dataSet, self.labels\n",
    "            \n",
    "                \n",
    "    def normalization(self, image):\n",
    "\n",
    "        mean = np.mean(image, dtype='float32')\n",
    "        standard_deviation = np.std(image, dtype='float32', ddof=1)\n",
    "\n",
    "        if standard_deviation < 1e-4:\n",
    "            standard_deviation = 1.\n",
    "\n",
    "        image = (image - mean)/standard_deviation\n",
    "\n",
    "        return image\n",
    "    \n",
    "    \n",
    "    def createValidationSet(self, dataset, labels):\n",
    "                \n",
    "        \n",
    "        split_portion = int(dataset.shape[0] * 0.2)\n",
    "    \n",
    "        train_dataset, train_labels = self.shuffleSet(dataset, labels)\n",
    "        valid_dataset = train_dataset[:split_portion,:,:]\n",
    "        valid_labels = train_labels[:split_portion]\n",
    "        \n",
    "        print \"valid dataset \", valid_dataset.shape\n",
    "        print \"valid labels \", valid_labels.shape\n",
    "        train_dataset = train_dataset[split_portion:,:,:]\n",
    "        train_labels = train_labels[split_portion:]\n",
    "        \n",
    "        print \"train data \", train_dataset.shape\n",
    "        print \"train labels \", train_labels.shape\n",
    "        \n",
    "        return train_dataset, train_labels, valid_dataset, valid_labels\n",
    "        \n",
    "        \n",
    "    def shuffleSet(self, data, labels ):\n",
    "        \n",
    "        permutation = np.random.permutation(labels.shape[0])\n",
    "        shuffled_dataset = data[permutation,:,:]\n",
    "        shuffled_labels = labels[permutation]\n",
    "        \n",
    "        return shuffled_dataset, shuffled_labels\n",
    "        "
   ]
  },
  {
   "cell_type": "code",
   "execution_count": 122,
   "metadata": {},
   "outputs": [],
   "source": [
    "poces = PreProcessDataSet(training_data, training_dataPath)"
   ]
  },
  {
   "cell_type": "code",
   "execution_count": 128,
   "metadata": {},
   "outputs": [
    {
     "name": "stdout",
     "output_type": "stream",
     "text": [
      "('#', 29929, 'image has more than 5 digits.')\n"
     ]
    }
   ],
   "source": [
    "train_dataset, train_labels = poces.preProcess()\n",
    "train_dataset = np.delete(train_dataset, 29929, axis=0)\n",
    "train_labels = np.delete(train_labels, 29929, axis=0)"
   ]
  },
  {
   "cell_type": "code",
   "execution_count": 129,
   "metadata": {},
   "outputs": [
    {
     "name": "stdout",
     "output_type": "stream",
     "text": [
      "inside\n",
      "6680\n",
      "valid dataset  (6680, 32, 32)\n",
      "valid labels  (6680, 6)\n",
      "train data  (26721, 32, 32)\n",
      "train labels  (26721, 6)\n"
     ]
    }
   ],
   "source": [
    "train_dataset, train_labels, valid_dataset, valid_labels = poces.createValidationSet(train_dataset, train_labels)"
   ]
  },
  {
   "cell_type": "code",
   "execution_count": 130,
   "metadata": {},
   "outputs": [
    {
     "name": "stdout",
     "output_type": "stream",
     "text": [
      "((13068, 32, 32), (13068, 6))\n"
     ]
    }
   ],
   "source": [
    "test_dataset, test_labels = generate_dataset(testing_data, test_dataPath)\n",
    "print(test_dataset.shape, test_labels.shape)"
   ]
  },
  {
   "cell_type": "markdown",
   "metadata": {},
   "source": [
    "# Save Dataset\n"
   ]
  },
  {
   "cell_type": "code",
   "execution_count": 133,
   "metadata": {},
   "outputs": [
    {
     "name": "stdout",
     "output_type": "stream",
     "text": [
      "Done\n"
     ]
    }
   ],
   "source": [
    "\n",
    "pickle_file = 'dataSet_svhn.pickle'\n",
    "\n",
    "try:\n",
    "    f = open(pickle_file, 'wb')\n",
    "    save = {\n",
    "    'train_dataset': train_dataset,\n",
    "    'train_labels': train_labels,\n",
    "    'valid_dataset': valid_dataset,\n",
    "    'valid_labels': valid_labels,\n",
    "    'test_dataset': test_dataset,\n",
    "    'test_labels': test_labels,\n",
    "    }\n",
    "    pickle.dump(save, f, pickle.HIGHEST_PROTOCOL)\n",
    "    f.close()\n",
    "    print(\"Done\")\n",
    "except Exception as e:\n",
    "    print('Unable to save data to', pickle_file, ':', e)\n",
    "    raise"
   ]
  },
  {
   "cell_type": "code",
   "execution_count": null,
   "metadata": {
    "collapsed": true
   },
   "outputs": [],
   "source": []
  },
  {
   "cell_type": "code",
   "execution_count": null,
   "metadata": {
    "collapsed": true
   },
   "outputs": [],
   "source": []
  },
  {
   "cell_type": "code",
   "execution_count": null,
   "metadata": {
    "collapsed": true
   },
   "outputs": [],
   "source": []
  },
  {
   "cell_type": "code",
   "execution_count": 5,
   "metadata": {
    "collapsed": true
   },
   "outputs": [],
   "source": [
    "class Data_Generator:\n",
    "    \n",
    "    def __init__(self, data, data_path, batch_size, val_split):\n",
    "        \n",
    "        self.path = data_path\n",
    "        self.batch_size = batch_size\n",
    "        self.val_split = val_split\n",
    "        self.data = data\n",
    "        self.data_preprocess()\n",
    "        \n",
    "        \n",
    "    def data_preprocess(self):\n",
    "\n",
    "        \n",
    "        images = [] #images \n",
    "        numbers_labels = []\n",
    "        indices = []\n",
    "        for imageWithLabels in self.data:\n",
    "            \n",
    "            image = (imageWithLabels) # image name\n",
    "            image_path = self.path + (image) # image path\n",
    "            for i in data[image]:\n",
    "                label = i[0] #label of image\n",
    "                print (\"label \", label)\n",
    "                numbers_labels.append(label)\n",
    "                left, top, width, height = i[1], i[2], i[3], i[4]\n",
    "                print (\"left top width heght \", left, top, width, height)\n",
    "                read_image = cv2.imread(image_path)\n",
    "                cv2.imshow(\"im \" + str(image_path), read_image)\n",
    "\n",
    "                gray = cv2.cvtColor(read_image, cv2.COLOR_BGR2GRAY)\n",
    "                crop = gray[width:height+top, left:top+left].copy()\n",
    "#                 print \"crop \", crop\n",
    "#                 print \"type of crop \", type(crop)\n",
    "                cv2.imshow(\"cropped\" +str(image_path), crop)\n",
    "                \n",
    "                cv2.waitKey(0)\n",
    "                cv2.destroyAllWindows()\n",
    "        \n",
    "#                 images.append(crop)\n",
    "#                 indices.append(len(images))\n",
    "                \n",
    "#         print (\"Image size\" , len(images))\n",
    "#         print (\"total labels \", len(numbers_labels))\n",
    "#         self.number_of_images = len(images)\n",
    "#         self.val_size = int(len(images) * self.val_split)\n",
    "#         self.train_size = len(images) - self.val_size\n",
    "        \n",
    "#         print (\"image \", images[indices[0]])\n",
    "#         shuffle(indices)\n",
    "#         print \"indices \", indices\n",
    "#         print \"image path \", self.path\n",
    "#         print (\"label \", numbers_labels[indices[0]])\n",
    "#         print ()\n",
    "#         cv2.imshow(\"mage \", images[indices[0]])\n",
    "#         cv2.waitKey(0)\n",
    "#         cv2.destroyAllWindows()\n",
    "        \n",
    "#         print (\"labels \", numbers_labels[indices[0]])\n",
    "#         print (\"number of images \", self.number_of_images)\n",
    "        \n",
    "#         print (\"val size \", self.val_size)\n",
    "#         print (\"train size \", self.train_size)\n",
    "       \n",
    "    \n",
    "    \n",
    "    \n",
    "    #             numbers.append(cv2.resize(crop, (32,32))) #resize image\n",
    "    #             print (\"leng of number \", len(numbers_labels))\n",
    "#                 if len(numbers) == batch_size:\n",
    "#                     print (\"yield\")\n",
    "#                     numbers = np.expand_dims(numbers, -1)\n",
    "#                     numbers_labels = pd.get_dummies(numbers_labels).as_matrix()\n",
    "#                     yield (numbers, numbers_labels)\n",
    "#                     numbers = [] # [image,label]\n",
    "#                     numbers_labels = []\n",
    "\n",
    "        \n",
    "\n",
    "\n",
    "    #         yield(numbers, numbers_labels)"
   ]
  },
  {
   "cell_type": "code",
   "execution_count": 6,
   "metadata": {},
   "outputs": [
    {
     "name": "stdout",
     "output_type": "stream",
     "text": [
      "('label ', 2)\n",
      "('left top width heght ', 77, 29, 23, 32)\n",
      "('label ', 3)\n",
      "('left top width heght ', 98, 25, 26, 32)\n",
      "('label ', 2)\n",
      "('left top width heght ', 17, 5, 8, 15)\n",
      "('label ', 5)\n",
      "('left top width heght ', 25, 5, 9, 15)\n",
      "('label ', 1)\n",
      "('left top width heght ', 246, 77, 81, 219)\n",
      "('label ', 9)\n",
      "('left top width heght ', 323, 81, 96, 219)\n",
      "('label ', 9)\n",
      "('left top width heght ', 57, 13, 15, 34)\n",
      "('label ', 3)\n",
      "('left top width heght ', 72, 13, 13, 34)\n",
      "('label ', 3)\n",
      "('left top width heght ', 52, 7, 21, 46)\n",
      "('label ', 1)\n",
      "('left top width heght ', 74, 10, 15, 46)\n"
     ]
    }
   ],
   "source": [
    "generator = Data_Generator(data, path, batch_size, val_split)"
   ]
  },
  {
   "cell_type": "code",
   "execution_count": 7,
   "metadata": {},
   "outputs": [
    {
     "data": {
      "text/plain": [
       "'\\ndef data_process(data, path, batch_size):\\n\\n    # images_list = [] # [image,label]\\n    # labels = []\\n    numbers = [] # [image,label]\\n    numbers_labels = []\\n    for imageWithLabels in data:\\n\\n    #     print( imageWithLabels)\\n        image = (imageWithLabels) # image name\\n        print (image)\\n        image_path = path + (image) # image path\\n        for i in data[image]:\\n            label = i[0] #label of image\\n            print (label)\\n            numbers_labels.append(label)\\n            left, top, width, height = i[1], i[2], i[3], i[4]\\n            print (\"left\", \"top\", \"width\", \"height\", left, top, width, height)\\n            read_image = cv2.imread(image_path)\\n\\n            gray = cv2.cvtColor(read_image, cv2.COLOR_BGR2GRAY)\\n            crop = gray[width:height+top, left:top+left].copy()\\n            numbers.append(crop)\\n#             numbers.append(cv2.resize(crop, (32,32))) #resize image\\n#             print (\"leng of number \", len(numbers_labels))\\n            if len(numbers) == batch_size:\\n                print (\"yield\")\\n                numbers = np.expand_dims(numbers, -1)\\n                numbers_labels = pd.get_dummies(numbers_labels).as_matrix()\\n                yield (numbers, numbers_labels)\\n                numbers = [] # [image,label]\\n                numbers_labels = []\\n'"
      ]
     },
     "execution_count": 7,
     "metadata": {},
     "output_type": "execute_result"
    }
   ],
   "source": [
    "\n",
    "'''\n",
    "def data_process(data, path, batch_size):\n",
    "\n",
    "    # images_list = [] # [image,label]\n",
    "    # labels = []\n",
    "    numbers = [] # [image,label]\n",
    "    numbers_labels = []\n",
    "    for imageWithLabels in data:\n",
    "\n",
    "    #     print( imageWithLabels)\n",
    "        image = (imageWithLabels) # image name\n",
    "        print (image)\n",
    "        image_path = path + (image) # image path\n",
    "        for i in data[image]:\n",
    "            label = i[0] #label of image\n",
    "            print (label)\n",
    "            numbers_labels.append(label)\n",
    "            left, top, width, height = i[1], i[2], i[3], i[4]\n",
    "            print (\"left\", \"top\", \"width\", \"height\", left, top, width, height)\n",
    "            read_image = cv2.imread(image_path)\n",
    "\n",
    "            gray = cv2.cvtColor(read_image, cv2.COLOR_BGR2GRAY)\n",
    "            crop = gray[width:height+top, left:top+left].copy()\n",
    "            numbers.append(crop)\n",
    "#             numbers.append(cv2.resize(crop, (32,32))) #resize image\n",
    "#             print (\"leng of number \", len(numbers_labels))\n",
    "            if len(numbers) == batch_size:\n",
    "                print (\"yield\")\n",
    "                numbers = np.expand_dims(numbers, -1)\n",
    "                numbers_labels = pd.get_dummies(numbers_labels).as_matrix()\n",
    "                yield (numbers, numbers_labels)\n",
    "                numbers = [] # [image,label]\n",
    "                numbers_labels = []\n",
    "'''"
   ]
  },
  {
   "cell_type": "code",
   "execution_count": 10,
   "metadata": {},
   "outputs": [
    {
     "data": {
      "text/plain": [
       "32"
      ]
     },
     "execution_count": 10,
     "metadata": {},
     "output_type": "execute_result"
    }
   ],
   "source": [
    "image_size = (32,32)\n",
    "image_size[0]"
   ]
  },
  {
   "cell_type": "code",
   "execution_count": null,
   "metadata": {
    "collapsed": true
   },
   "outputs": [],
   "source": []
  }
 ],
 "metadata": {
  "anaconda-cloud": {},
  "kernelspec": {
   "display_name": "Python 2",
   "language": "python",
   "name": "python2"
  },
  "language_info": {
   "codemirror_mode": {
    "name": "ipython",
    "version": 2
   },
   "file_extension": ".py",
   "mimetype": "text/x-python",
   "name": "python",
   "nbconvert_exporter": "python",
   "pygments_lexer": "ipython2",
   "version": "2.7.14"
  }
 },
 "nbformat": 4,
 "nbformat_minor": 2
}
