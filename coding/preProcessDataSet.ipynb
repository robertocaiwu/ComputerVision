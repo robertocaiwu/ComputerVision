{
 "cells": [
  {
   "cell_type": "code",
   "execution_count": 1,
   "metadata": {},
   "outputs": [
    {
     "name": "stderr",
     "output_type": "stream",
     "text": [
      "Using TensorFlow backend.\n"
     ]
    }
   ],
   "source": [
    "import h5py\n",
    "import cv2\n",
    "import keras\n",
    "import scipy.io as sio\n",
    "import numpy as np\n",
    "import matplotlib.pyplot as plt\n",
    "%matplotlib inline\n",
    "import PIL\n",
    "from PIL import Image\n",
    "import pandas as pd\n",
    "from random import shuffle\n",
    "import os\n",
    "import random\n",
    "import pickle"
   ]
  },
  {
   "cell_type": "code",
   "execution_count": 2,
   "metadata": {
    "collapsed": true
   },
   "outputs": [],
   "source": [
    "class DigitStructure:\n",
    "    \n",
    "    def __init__(self, _filePath):\n",
    "        \n",
    "        self.loadFile = self.load_datafile(_filePath)\n",
    "        self.digitStruct = self.readDigitStruct(self.loadFile)\n",
    "        self.name = self.digitStruct['name']\n",
    "        self.boxLabels = self.digitStruct[\"bbox\"]\n",
    "        \n",
    "    def load_datafile(self, filepath):\n",
    "        \n",
    "        return h5py.File(filepath,'r')\n",
    "    \n",
    "    def readDigitStruct(self, datafile):\n",
    "        \n",
    "        return datafile[\"digitStruct\"]\n",
    "    \n",
    "    def getImageName(self, index):\n",
    "        \n",
    "        names = []\n",
    "        for i in self.loadFile[self.name[index][0]].value:\n",
    "            names.append(chr(i[0]))\n",
    "        return ''.join(names)\n",
    "    \n",
    "    def bboxExtractor(self, attr):\n",
    "        \n",
    "        if (len(attr) > 1):\n",
    "            attr = [self.loadFile[attr.value[j].item()].value[0][0] for j in range(len(attr))]\n",
    "        else:\n",
    "            attr = [attr.value[0][0]]\n",
    "        return attr\n",
    "    \n",
    "    # getBbox returns a dict of data for the n(th) bbox. \n",
    "    def getBboxAttributes(self,index):\n",
    "        \n",
    "        bbox = {}\n",
    "        bb = self.boxLabels[index].item()\n",
    "        bbox['height'] = self.bboxExtractor(self.loadFile[bb][\"height\"])\n",
    "        bbox['label'] = self.bboxExtractor(self.loadFile[bb][\"label\"])\n",
    "        bbox['left'] = self.bboxExtractor(self.loadFile[bb][\"left\"])\n",
    "        bbox['top'] = self.bboxExtractor(self.loadFile[bb][\"top\"])\n",
    "        bbox['width'] = self.bboxExtractor(self.loadFile[bb][\"width\"])\n",
    "        \n",
    "        return bbox\n",
    "            \n",
    "    def getDigitStructure(self,n):\n",
    "        \n",
    "        s = self.getBboxAttributes(n)\n",
    "        \n",
    "        s['name']=self.getImageName(n)\n",
    "        return s\n",
    "\n",
    "    # getAllDigitStructure returns all the digitStruct from the input file.     \n",
    "    def getAllDigitStructure(self):\n",
    "        \n",
    "        struct = []\n",
    "        for i in range(len(self.name)):\n",
    "            struct.append(self.getDigitStructure(i))\n",
    "        return struct\n",
    "    \n",
    "    def getAllDigitStructure_ByDigit(self):\n",
    "        \n",
    "        \n",
    "        digitDictionary = self.getAllDigitStructure()\n",
    "        result = []\n",
    "        structCnt = 1\n",
    "        for i in range(len(digitDictionary)):\n",
    "            item = { 'filename' : digitDictionary[i][\"name\"] }\n",
    "            digit_labels_in_each_image = []\n",
    "            for j in range(len(digitDictionary[i]['height'])):\n",
    "               number = {}\n",
    "               number['height'] = digitDictionary[i]['height'][j]\n",
    "               number['label']  = digitDictionary[i]['label'][j]\n",
    "               number['left']   = digitDictionary[i]['left'][j]\n",
    "               number['top']    = digitDictionary[i]['top'][j]\n",
    "               number['width']  = digitDictionary[i]['width'][j]\n",
    "               digit_labels_in_each_image.append(number)\n",
    "            structCnt = structCnt + 1\n",
    "            item['boxes'] = digit_labels_in_each_image\n",
    "            result.append(item)\n",
    "        return result\n",
    "    "
   ]
  },
  {
   "cell_type": "markdown",
   "metadata": {},
   "source": [
    "# Load Train Data"
   ]
  },
  {
   "cell_type": "code",
   "execution_count": 3,
   "metadata": {
    "collapsed": true
   },
   "outputs": [],
   "source": [
    "training_dataPath = './train/'\n",
    "train_digitStruct = training_dataPath + 'digitStruct.mat'\n",
    "digitStructure = DigitStructure(train_digitStruct)\n",
    "training_data = digitStructure.getAllDigitStructure_ByDigit()"
   ]
  },
  {
   "cell_type": "markdown",
   "metadata": {},
   "source": [
    "# Load Test Data"
   ]
  },
  {
   "cell_type": "code",
   "execution_count": 4,
   "metadata": {
    "collapsed": true
   },
   "outputs": [],
   "source": [
    "test_dataPath = './test/'\n",
    "test_digitStructure = test_dataPath + 'digitStruct.mat'\n",
    "digitStructure = DigitStructure(test_digitStructure)\n",
    "testing_data = digitStructure.getAllDigitStructure_ByDigit()"
   ]
  },
  {
   "cell_type": "code",
   "execution_count": 13,
   "metadata": {
    "collapsed": true
   },
   "outputs": [],
   "source": [
    "\n",
    "class PreProcessDataSet:\n",
    "    \n",
    "    def __init__(self, data, path):\n",
    "        \n",
    "        self.data = data\n",
    "        self.path = path\n",
    "        self.image_size = (32,32,1)\n",
    "        self.dataSet = \\\n",
    "                np.ndarray([len(self.data), 32, 32, 1], dtype = 'float32')\n",
    "        self.num_classes = 10\n",
    "        self.total_digits = 6  #data set contains maximum 6 digits\n",
    "        # initialize all elements with 10\n",
    "        self.labels = np.ones([len(self.data), self.num_classes], dtype=int) * 10\n",
    "        self.images = []\n",
    "        self.validation_index = []\n",
    "        self.training_index = []\n",
    "    \n",
    "    def preProcess(self):\n",
    "        \n",
    "        for i in np.arange(len(self.dataSet)):\n",
    "            get_filename = self.data[i][\"filename\"]\n",
    "            filename = self.path + get_filename\n",
    "            read_image = Image.open(filename)\n",
    "            image_size = read_image.size\n",
    "            boxList = self.data[i]['boxes']\n",
    "            number_of_digits = len(boxList)\n",
    "            self.labels[i, 0] = number_of_digits\n",
    "            \n",
    "            #initalize arrays(top, left, height, width) based on num of digits\n",
    "            height = np.ndarray([number_of_digits], dtype='float32') \n",
    "            width = np.ndarray([number_of_digits], dtype='float32')\n",
    "            top = np.ndarray([number_of_digits], dtype='float32')\n",
    "            left = np.ndarray([number_of_digits], dtype='float32')\n",
    "            \n",
    "            for digits in np.arange(number_of_digits):\n",
    "                #if digits are less than 5\n",
    "                if digits < 5:\n",
    "                    self.labels[i, digits+1] = boxList[digits]['label']\n",
    "#                     self.number_of_labels[i, digits+1] = boxList[digits]['label']\n",
    "                    #if digit is 10, we consider it as 0\n",
    "                    if boxList[digits]['label'] == 10:\n",
    "                        self.labels[i, digits+1] = 0\n",
    "#                         self.number_of_labels[i, digits+1] = 0\n",
    "                #take index of image that has more than 5 digits\n",
    "                else: print('#',i,'image has more than 5 digits.')\n",
    "                    \n",
    "                height[digits] = boxList[digits]['height'] \n",
    "                width[digits] = boxList[digits]['width']\n",
    "                top[digits] = boxList[digits]['top']\n",
    "                left[digits] = boxList[digits]['left']\n",
    "                    \n",
    "\n",
    "            #compute top left heigh and width of image\n",
    "            image_top = np.amin(top)\n",
    "            image_left = np.amin(left)\n",
    "            image_height = np.amax(top) + height[np.argmax(top)] - image_top\n",
    "            image_width = np.amax(left) + width[np.argmax(left)] - image_left\n",
    "            \n",
    "        \n",
    "            #adjust to make them feasible for cropping\n",
    "            image_top = int(np.floor(image_top - 0.1 * image_height))\n",
    "            image_left = int(np.floor(image_left - 0.1 * image_width))\n",
    "            image_bottom = int(np.amin([np.ceil(image_top + 1.2 * image_height), image_size[1]]))\n",
    "            image_right = int(np.amin([np.ceil(image_left + 1.2 * image_width), image_size[0]]))\n",
    "            \n",
    "            \n",
    "            read_image = \\\n",
    "                read_image.crop((image_left, image_top, image_right, image_bottom)).resize([32,32], Image.ANTIALIAS)\n",
    "\n",
    "            gray_image = read_image.convert(\"L\")       \n",
    "            gray_image = np.expand_dims(gray_image, -1)\n",
    "#             print gray_image.shape\n",
    "            gray_image = self.normalization(gray_image)\n",
    "            \n",
    "            #append gray images in list.\n",
    "            self.images.append(gray_image[:,:,:])\n",
    "            self.dataSet[i,:,:,:] = gray_image[:,:,:]\n",
    "            \n",
    "        return self.dataSet, self.labels, self.images\n",
    "            \n",
    "                \n",
    "    def normalization(self, image):\n",
    "\n",
    "        mean = np.mean(image, dtype='float32')\n",
    "        standard_deviation = np.std(image, dtype='float32', ddof=1)\n",
    "\n",
    "        if standard_deviation < 1e-4:\n",
    "            standard_deviation = 1.\n",
    "\n",
    "        image = (image - mean)/standard_deviation\n",
    "\n",
    "        return image\n",
    "    \n",
    "    \n",
    "    def createValidationSet(self, dataset, labels):\n",
    "                \n",
    "        \n",
    "        split_portion = int(len(dataset) * 0.2)\n",
    "    \n",
    "        train_dataset, train_labels = self.shuffleSet(dataset, labels)\n",
    "        valid_dataset = train_dataset[:split_portion]\n",
    "        valid_labels = train_labels[:split_portion]\n",
    "        \n",
    "        train_dataset = train_dataset[split_portion:]\n",
    "        train_labels = train_labels[split_portion:]\n",
    "        \n",
    "        return train_dataset, train_labels, valid_dataset, valid_labels\n",
    "        \n",
    "        \n",
    "    def shuffleSet(self, data, labels ):\n",
    "        \n",
    "#         permutation = np.random.permutation(labels.shape[0])\n",
    "#         shuffled_dataset = data[permutation,:,:]\n",
    "#         shuffled_labels = labels[permutation]\n",
    "\n",
    "        permutation = np.random.permutation(labels.shape[0])\n",
    "        shuffled_dataset = [data[i] for i in permutation]\n",
    "        shuffled_labels = labels[permutation]\n",
    "        \n",
    "        return shuffled_dataset, shuffled_labels\n",
    "        "
   ]
  },
  {
   "cell_type": "code",
   "execution_count": 14,
   "metadata": {
    "collapsed": true
   },
   "outputs": [],
   "source": [
    "poces = PreProcessDataSet(training_data, training_dataPath)"
   ]
  },
  {
   "cell_type": "code",
   "execution_count": 15,
   "metadata": {},
   "outputs": [
    {
     "name": "stdout",
     "output_type": "stream",
     "text": [
      "('#', 29929, 'image has more than 5 digits.')\n"
     ]
    }
   ],
   "source": [
    "train_dataset, train_labels, images_list = poces.preProcess()\n",
    "#train_num_labels contains 10 classes, 0 to 9 and 10(represents no digit) "
   ]
  },
  {
   "cell_type": "code",
   "execution_count": 16,
   "metadata": {},
   "outputs": [
    {
     "name": "stdout",
     "output_type": "stream",
     "text": [
      "(33402, 32, 32, 1) 33402 33402\n"
     ]
    }
   ],
   "source": [
    "print (train_dataset).shape, len(train_labels), len(images_list)"
   ]
  },
  {
   "cell_type": "code",
   "execution_count": 20,
   "metadata": {},
   "outputs": [
    {
     "data": {
      "text/plain": [
       "33402"
      ]
     },
     "execution_count": 20,
     "metadata": {},
     "output_type": "execute_result"
    }
   ],
   "source": [
    "len(images_list)"
   ]
  },
  {
   "cell_type": "code",
   "execution_count": 23,
   "metadata": {
    "collapsed": true
   },
   "outputs": [],
   "source": [
    "del images_list[29929]\n",
    "train_dataset = np.delete(train_dataset, 29929, axis=0)\n",
    "train_labels = np.delete(train_labels, 29929, axis=0)\n",
    "# train_num_labels = np.delete(train_num_labels, 29929, axis=0)"
   ]
  },
  {
   "cell_type": "code",
   "execution_count": 25,
   "metadata": {
    "collapsed": true
   },
   "outputs": [],
   "source": [
    "poces = PreProcessDataSet(training_data, training_dataPath)"
   ]
  },
  {
   "cell_type": "code",
   "execution_count": 26,
   "metadata": {
    "collapsed": true
   },
   "outputs": [],
   "source": [
    "train_dataset, train_num_labels, valid_dataset, valid_labels = poces.createValidationSet(images_list, train_labels)"
   ]
  },
  {
   "cell_type": "code",
   "execution_count": 30,
   "metadata": {},
   "outputs": [
    {
     "name": "stdout",
     "output_type": "stream",
     "text": [
      "26721 26721 6680 6680\n"
     ]
    }
   ],
   "source": [
    "print len(train_dataset), len(train_num_labels), len(valid_dataset), len(valid_labels)"
   ]
  },
  {
   "cell_type": "markdown",
   "metadata": {},
   "source": [
    "# Generate Test Data"
   ]
  },
  {
   "cell_type": "code",
   "execution_count": 31,
   "metadata": {
    "collapsed": true
   },
   "outputs": [],
   "source": [
    "poces = PreProcessDataSet(testing_data, test_dataPath)"
   ]
  },
  {
   "cell_type": "code",
   "execution_count": 32,
   "metadata": {
    "collapsed": true
   },
   "outputs": [],
   "source": [
    "test_dataset, test_labels, images_test_list = poces.preProcess()\n",
    "#test_dataset contains images in array\n",
    "#images_test_list contains images in list\n",
    "#test_labels contains labels of images in list"
   ]
  },
  {
   "cell_type": "code",
   "execution_count": null,
   "metadata": {
    "collapsed": true
   },
   "outputs": [],
   "source": [
    "# save pickle file"
   ]
  },
  {
   "cell_type": "code",
   "execution_count": null,
   "metadata": {
    "collapsed": true
   },
   "outputs": [],
   "source": [
    "pickle_file = 'dataSet_listSvhn.pickle'\n",
    "\n",
    "try:\n",
    "  f = open(pickle_file, 'wb')\n",
    "  save = {\n",
    "    'train_dataset': train_dataset,\n",
    "    'train_labels': train_num_labels,\n",
    "    'valid_dataset': valid_dataset,\n",
    "    'valid_labels': valid_labels,\n",
    "    'test_dataset': images_test_list,\n",
    "    'test_labels': test_labels,\n",
    "    }\n",
    "  pickle.dump(save, f, pickle.HIGHEST_PROTOCOL)\n",
    "  f.close()\n",
    "except Exception as e:\n",
    "  print('Unable to save data to', pickle_file, ':', e)\n",
    "  raise"
   ]
  }
 ],
 "metadata": {
  "anaconda-cloud": {},
  "kernelspec": {
   "display_name": "Python 2",
   "language": "python",
   "name": "python2"
  },
  "language_info": {
   "codemirror_mode": {
    "name": "ipython",
    "version": 2
   },
   "file_extension": ".py",
   "mimetype": "text/x-python",
   "name": "python",
   "nbconvert_exporter": "python",
   "pygments_lexer": "ipython2",
   "version": "2.7.14"
  }
 },
 "nbformat": 4,
 "nbformat_minor": 2
}
