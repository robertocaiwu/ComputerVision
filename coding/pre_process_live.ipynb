{
 "cells": [
  {
   "cell_type": "code",
   "execution_count": 1,
   "metadata": {},
   "outputs": [],
   "source": [
    "import numpy as np\n",
    "import cv2\n",
    "import imutils"
   ]
  },
  {
   "cell_type": "code",
   "execution_count": null,
   "metadata": {},
   "outputs": [],
   "source": [
    "# img_src = './data/images/train/1.png'\n",
    "img_src = './data/images/photo_1.jpg'\n",
    "# img_src = './data/images/threshold.jpg'\n",
    "img1 = cv2.imread(img_src)\n",
    "# cv2.imshow('Original', img1 )\n",
    "\n",
    "imgray = cv2.cvtColor(img1,cv2.COLOR_BGR2GRAY)\n",
    "# cv2.imshow('Gray', imgray )\n",
    "\n",
    "blurred = cv2.GaussianBlur(imgray, (5, 5), 0)\n",
    "cv2.imshow('Blur', blurred )\n",
    "\n",
    "edged = cv2.Canny(blurred, 50, 200, 255)\n",
    "cv2.imshow('Edged', edged )\n",
    "\n",
    "thresh = 80\n",
    "maxValue = 255\n",
    "ret,thresh = cv2.threshold(blurred,thresh,maxValue,cv2.THRESH_BINARY_INV)\n",
    "cv2.imshow('Threshold', thresh )\n",
    "# cv2.imwrite('Threshold.png',thresh)\n",
    "\n",
    "im2, contours, hierarchy = cv2.findContours(thresh,cv2.RETR_EXTERNAL,cv2.CHAIN_APPROX_SIMPLE)\n",
    "contour_color = (100, 0, 0)\n",
    "contour_width = 2\n",
    "cv2.drawContours(im2, contours, -1, contour_color , contour_width)\n",
    "cv2.imshow('Contour', im2 )\n",
    "# cv2.imwrite('Contour.png',im2)\n",
    "\n",
    "rectangles = [cv2.boundingRect(rect) for rect in contours]\n",
    "\n",
    "for rect in rectangles:\n",
    "    cv2.rectangle(im2, (rect[0], rect[1]), (rect[0] + rect[2], rect[1] + rect[3]), (255,255,0), 3) \n",
    "    \n",
    "cv2.imshow('BBox', im2)   \n",
    "# cv2.imwrite('bbox.png',im2)\n",
    "cv2.waitKey(0) \n",
    "cv2.destroyAllWindows()"
   ]
  },
  {
   "cell_type": "code",
   "execution_count": null,
   "metadata": {},
   "outputs": [],
   "source": []
  },
  {
   "cell_type": "code",
   "execution_count": null,
   "metadata": {},
   "outputs": [],
   "source": []
  }
 ],
 "metadata": {
  "kernelspec": {
   "display_name": "tensor_env",
   "language": "python",
   "name": "tensor_env"
  },
  "language_info": {
   "codemirror_mode": {
    "name": "ipython",
    "version": 3
   },
   "file_extension": ".py",
   "mimetype": "text/x-python",
   "name": "python",
   "nbconvert_exporter": "python",
   "pygments_lexer": "ipython3",
   "version": "3.4.3"
  }
 },
 "nbformat": 4,
 "nbformat_minor": 2
}
