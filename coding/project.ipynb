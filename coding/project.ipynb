{
 "cells": [
  {
   "cell_type": "code",
   "execution_count": 1,
   "metadata": {},
   "outputs": [
    {
     "name": "stderr",
     "output_type": "stream",
     "text": [
      "Using TensorFlow backend.\n"
     ]
    }
   ],
   "source": [
    "import cv2\n",
    "import keras\n",
    "import scipy.io as sio\n",
    "import h5py"
   ]
  },
  {
   "cell_type": "code",
   "execution_count": 2,
   "metadata": {},
   "outputs": [],
   "source": [
    "import numpy as np"
   ]
  },
  {
   "cell_type": "code",
   "execution_count": 3,
   "metadata": {},
   "outputs": [],
   "source": [
    "class DigitStructure:\n",
    "    def __init__(self):\n",
    "        self.boxList = None\n",
    "        self.name = None\n",
    "        \n",
    "def load_datafile(filepath):\n",
    "    \n",
    "    dataSetfile = h5py.File(filepath,'r')\n",
    "    return dataSetfile\n",
    "    \n",
    "def readInt(intData, dataFile):\n",
    "    \n",
    "    intRef = intData[0]\n",
    "    isReference = isinstance(intRef, h5py.Reference)\n",
    "    intVal = 0\n",
    "    if isReference:\n",
    "        intObj = dataFile[intRef]\n",
    "        intVal = int(intObj[0])\n",
    "    else: # Assuming value type\n",
    "        intVal = int(intRef)\n",
    "    \n",
    "    return intVal\n",
    "\n",
    "def yieldNextInt(intDataset, dataFile):\n",
    "    \n",
    "    for intData in intDataset:\n",
    "        intVal = readInt(intData, dataFile)\n",
    "        yield intVal \n",
    "        \n",
    "def readDigitStruct(datafile):\n",
    "    return datafile[\"digitStruct\"]\n",
    "\n",
    "\n",
    "def get_BBox_attributes(image_box, datafile):\n",
    "    \n",
    "    for array in image_box:\n",
    "        bbList = []\n",
    "        #take attributes of each digit\n",
    "        bboxGroupRef = array[0]\n",
    "        bboxGroup = datafile[bboxGroupRef]\n",
    "        labelGroup = bboxGroup[\"label\"]\n",
    "        leftPositionGroup = bboxGroup[\"left\"]\n",
    "        topPositionGroup = bboxGroup[\"top\"]\n",
    "        boxWidthGroup = bboxGroup[\"width\"]\n",
    "        boxHeightGroup = bboxGroup[\"height\"]\n",
    "        \n",
    "        left = yieldNextInt(leftPositionGroup, datafile)\n",
    "        top = yieldNextInt(topPositionGroup, datafile)\n",
    "        width = yieldNextInt(boxWidthGroup, datafile)\n",
    "        height = yieldNextInt(boxHeightGroup, datafile)\n",
    "        \n",
    "        \n",
    "        for image_label in yieldNextInt(labelGroup, datafile):\n",
    "            bbox = BBox()\n",
    "            bbox.box_label = image_label\n",
    "            bbox.left = next(left)\n",
    "            bbox.top = next(top)\n",
    "            bbox.width = next(width)\n",
    "            bbox.height = next(height)\n",
    "            \n",
    "            bbList.append(bbox)\n",
    "            \n",
    "        yield bbList\n",
    "        \n",
    "def getNextFileName(nameGroup, datafile):\n",
    "    \n",
    "    for array in nameGroup:\n",
    "        ref = array[0]\n",
    "        strObj = datafile[ref]\n",
    "        image_fileName = ''.join(chr(i) for i in strObj)\n",
    "        yield image_fileName\n",
    "        \n",
    "\n",
    "\n",
    "def read_digit_structure(datafile):\n",
    "    # dictionary of two keys; refs and digitStruct\n",
    "    print (\"\"\"datafile\"\"\")\n",
    "    digitStruct = readDigitStruct(datafile)\n",
    "    #digitStruct consists of two elements; bbox and name\n",
    "    \n",
    "    image_name = digitStruct[\"name\"]\n",
    "    image_box = digitStruct[\"bbox\"]\n",
    "    \n",
    "    image_boxAttributes = get_BBox_attributes(image_box, datafile)\n",
    "    \n",
    "    for file_name in getNextFileName(image_name, datafile):\n",
    "        bbList = next(image_boxAttributes)\n",
    "        digitStructure = DigitStructure()\n",
    "        digitStructure.name = file_name\n",
    "        digitStructure.boxList = bbList\n",
    "        \n",
    "        yield digitStructure\n",
    "        \n",
    "def access_datafile():\n",
    "    loadfile = load_datafile('./train/digitStruct.mat')\n",
    "    testCounter = 0\n",
    "    for obj in read_digit_structure(loadfile):\n",
    "        testCounter += 1\n",
    "        print(obj.name)\n",
    "        for bbox in obj.boxList:\n",
    "            print(\"    {}:{},{},{},{}\".format(\n",
    "                bbox.box_label, bbox.left, bbox.top, bbox.width, bbox.height))\n",
    "        if testCounter >= 5:\n",
    "            break\n",
    "    "
   ]
  },
  {
   "cell_type": "code",
   "execution_count": 4,
   "metadata": {},
   "outputs": [],
   "source": [
    "class BBox:\n",
    "    def __init__(self):\n",
    "        self.label = \"\"\n",
    "        self.left = 0\n",
    "        self.top = 0\n",
    "        self.width = 0\n",
    "        self.height = 0"
   ]
  },
  {
   "cell_type": "code",
   "execution_count": 5,
   "metadata": {},
   "outputs": [
    {
     "name": "stdout",
     "output_type": "stream",
     "text": [
      "datafile\n",
      "1.png\n",
      "    1:246,77,81,219\n",
      "    9:323,81,96,219\n",
      "2.png\n",
      "    2:77,29,23,32\n",
      "    3:98,25,26,32\n",
      "3.png\n",
      "    2:17,5,8,15\n",
      "    5:25,5,9,15\n",
      "4.png\n",
      "    9:57,13,15,34\n",
      "    3:72,13,13,34\n",
      "5.png\n",
      "    3:52,7,21,46\n",
      "    1:74,10,15,46\n"
     ]
    }
   ],
   "source": [
    "access_datafile()"
   ]
  },
  {
   "cell_type": "code",
   "execution_count": null,
   "metadata": {},
   "outputs": [],
   "source": []
  },
  {
   "cell_type": "code",
   "execution_count": null,
   "metadata": {},
   "outputs": [],
   "source": []
  },
  {
   "cell_type": "code",
   "execution_count": null,
   "metadata": {},
   "outputs": [],
   "source": []
  },
  {
   "cell_type": "code",
   "execution_count": null,
   "metadata": {},
   "outputs": [],
   "source": []
  },
  {
   "cell_type": "code",
   "execution_count": 65,
   "metadata": {},
   "outputs": [
    {
     "name": "stdout",
     "output_type": "stream",
     "text": [
      "<class 'numpy.str_'>\n",
      "\n",
      "{'#refs#': array(['#a', '#b', '#c', ..., 'zzx', 'zzy', 'zzz'], \n",
      "      dtype='<U3'), 'digitStruct': array(['bbox', 'name'], \n",
      "      dtype='<U4')}\n"
     ]
    }
   ],
   "source": [
    "data = h5py.File('./train/digitStruct.mat')\n",
    "\n",
    "# for item in data['/digitStruct/bbox']:\n",
    "#     data[item[0]].visititems(print_attrs)\n",
    "\n",
    "arrays = {}\n",
    "for k,v in data.items():\n",
    "    arrays[k] = np.array(v)\n",
    "\n",
    "print ((arrays[\"digitStruct\"][0]))\n",
    "print (\"\")\n",
    "# digitStruct(300).bbox(2)\n",
    "print (arrays)\n",
    "# print (arrays[\"digitStruct\"])"
   ]
  },
  {
   "cell_type": "code",
   "execution_count": 42,
   "metadata": {},
   "outputs": [
    {
     "data": {
      "text/plain": [
       "2"
      ]
     },
     "execution_count": 42,
     "metadata": {},
     "output_type": "execute_result"
    }
   ],
   "source": [
    "a = dict()\n",
    "a[\"di\"] = [1,3,4]\n",
    "a[\"bi\"] = [4,5,5]\n",
    "len(a[\"di\"])\n",
    "\n",
    "b = np.array([[1,2],[3,5]])\n",
    "len(b)"
   ]
  }
 ],
 "metadata": {
  "anaconda-cloud": {},
  "kernelspec": {
   "display_name": "Python [conda env:python3]",
   "language": "python",
   "name": "conda-env-python3-py"
  },
  "language_info": {
   "codemirror_mode": {
    "name": "ipython",
    "version": 3
   },
   "file_extension": ".py",
   "mimetype": "text/x-python",
   "name": "python",
   "nbconvert_exporter": "python",
   "pygments_lexer": "ipython3",
   "version": "3.4.5"
  }
 },
 "nbformat": 4,
 "nbformat_minor": 2
}
