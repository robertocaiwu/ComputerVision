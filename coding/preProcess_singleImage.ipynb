{
 "cells": [
  {
   "cell_type": "code",
   "execution_count": 1,
   "metadata": {},
   "outputs": [
    {
     "name": "stderr",
     "output_type": "stream",
     "text": [
      "Using TensorFlow backend.\n"
     ]
    }
   ],
   "source": [
    "import h5py\n",
    "import cv2\n",
    "import scipy.io as sio\n",
    "from scipy import misc\n",
    "import numpy as np\n",
    "# import matplotlib.pyplot as plt\n",
    "# %matplotlib inline\n",
    "import PIL\n",
    "from PIL import Image\n",
    "import pandas as pd\n",
    "from random import shuffle\n",
    "import os\n",
    "import random\n",
    "import pickle\n",
    "import keras\n",
    "from keras.utils import * "
   ]
  },
  {
   "cell_type": "code",
   "execution_count": 2,
   "metadata": {
    "collapsed": true
   },
   "outputs": [],
   "source": [
    "class DigitStructure:\n",
    "    \n",
    "    def __init__(self, _filePath):\n",
    "        \n",
    "        self.loadFile = self.load_datafile(_filePath)\n",
    "        self.digitStruct = self.readDigitStruct(self.loadFile)\n",
    "        self.name = self.digitStruct['name']\n",
    "        self.boxLabels = self.digitStruct[\"bbox\"]\n",
    "        \n",
    "    def load_datafile(self, filepath):\n",
    "        \n",
    "        return h5py.File(filepath,'r')\n",
    "    \n",
    "    def readDigitStruct(self, datafile):\n",
    "        \n",
    "        return datafile[\"digitStruct\"]\n",
    "    \n",
    "    def getImageName(self, index):\n",
    "        \n",
    "        names = []\n",
    "        for i in self.loadFile[self.name[index][0]].value:\n",
    "            names.append(chr(i[0]))\n",
    "        return ''.join(names)\n",
    "    \n",
    "    def bboxExtractor(self, attr):\n",
    "        \n",
    "        if (len(attr) > 1):\n",
    "            attr = [self.loadFile[attr.value[j].item()].value[0][0] for j in range(len(attr))]\n",
    "        else:\n",
    "            attr = [attr.value[0][0]]\n",
    "        return attr\n",
    "    \n",
    "    # getBbox returns a dict of data for the n(th) bbox. \n",
    "    def getBboxAttributes(self,index):\n",
    "        \n",
    "        bbox = {}\n",
    "        bb = self.boxLabels[index].item()\n",
    "        bbox['height'] = self.bboxExtractor(self.loadFile[bb][\"height\"])\n",
    "        bbox['label'] = self.bboxExtractor(self.loadFile[bb][\"label\"])\n",
    "        bbox['left'] = self.bboxExtractor(self.loadFile[bb][\"left\"])\n",
    "        bbox['top'] = self.bboxExtractor(self.loadFile[bb][\"top\"])\n",
    "        bbox['width'] = self.bboxExtractor(self.loadFile[bb][\"width\"])\n",
    "        \n",
    "        return bbox\n",
    "            \n",
    "    def getDigitStructure(self,n):\n",
    "        \n",
    "        s = self.getBboxAttributes(n)\n",
    "        \n",
    "        s['name']=self.getImageName(n)\n",
    "        return s\n",
    "\n",
    "    # getAllDigitStructure returns all the digitStruct from the input file.     \n",
    "    def getAllDigitStructure(self):\n",
    "        \n",
    "        struct = []\n",
    "        for i in range(len(self.name)):\n",
    "            struct.append(self.getDigitStructure(i))\n",
    "        return struct\n",
    "    \n",
    "    def getAllDigitStructure_ByDigit(self):\n",
    "        \n",
    "        \n",
    "        digitDictionary = self.getAllDigitStructure()\n",
    "        result = []\n",
    "        structCnt = 1\n",
    "        for i in range(len(digitDictionary)):\n",
    "            item = { 'filename' : digitDictionary[i][\"name\"] }\n",
    "            digit_labels_in_each_image = []\n",
    "            for j in range(len(digitDictionary[i]['height'])):\n",
    "               number = {}\n",
    "               number['height'] = digitDictionary[i]['height'][j]\n",
    "               number['label']  = digitDictionary[i]['label'][j]\n",
    "               number['left']   = digitDictionary[i]['left'][j]\n",
    "               number['top']    = digitDictionary[i]['top'][j]\n",
    "               number['width']  = digitDictionary[i]['width'][j]\n",
    "               digit_labels_in_each_image.append(number)\n",
    "            structCnt = structCnt + 1\n",
    "            item['boxes'] = digit_labels_in_each_image\n",
    "            result.append(item)\n",
    "        return result\n",
    "    "
   ]
  },
  {
   "cell_type": "markdown",
   "metadata": {},
   "source": [
    "# Load Train Data"
   ]
  },
  {
   "cell_type": "code",
   "execution_count": 3,
   "metadata": {
    "collapsed": true
   },
   "outputs": [],
   "source": [
    "training_dataPath = './train/'\n",
    "train_digitStruct = training_dataPath + 'digitStruct.mat'\n",
    "digitStructure = DigitStructure(train_digitStruct)\n",
    "training_data = digitStructure.getAllDigitStructure_ByDigit()"
   ]
  },
  {
   "cell_type": "markdown",
   "metadata": {},
   "source": [
    "# Load Test Data"
   ]
  },
  {
   "cell_type": "code",
   "execution_count": 4,
   "metadata": {
    "collapsed": true
   },
   "outputs": [],
   "source": [
    "test_dataPath = './test/'\n",
    "test_digitStructure = test_dataPath + 'digitStruct.mat'\n",
    "digitStructure = DigitStructure(test_digitStructure)\n",
    "testing_data = digitStructure.getAllDigitStructure_ByDigit()"
   ]
  },
  {
   "cell_type": "code",
   "execution_count": 164,
   "metadata": {},
   "outputs": [
    {
     "name": "stderr",
     "output_type": "stream",
     "text": [
      "/home/ramesh/anaconda2/lib/python2.7/site-packages/ipykernel_launcher.py:7: DeprecationWarning: `imresize` is deprecated!\n",
      "`imresize` is deprecated in SciPy 1.0.0, and will be removed in 1.2.0.\n",
      "Use ``skimage.transform.resize`` instead.\n",
      "  import sys\n"
     ]
    },
    {
     "data": {
      "image/png": "[encoded data removed]",
      "text/plain": [
       "<PIL.Image.Image image mode=RGB size=32x32 at 0x7F68826CA4D0>"
      ]
     },
     "execution_count": 164,
     "metadata": {},
     "output_type": "execute_result"
    }
   ],
   "source": [
    "im = Image.open('./train/1.png')\n",
    "# image_left = \n",
    "height  = 219.0\n",
    "width  = 81.0\n",
    "top  = 77.0\n",
    "left = 246.0\n",
    "img = misc.imresize(im.crop((left, top, width+left, height+top)), (32,32,1))\n",
    "Image.fromarray(img, 'RGB')"
   ]
  },
  {
   "cell_type": "code",
   "execution_count": 55,
   "metadata": {},
   "outputs": [
    {
     "data": {
      "text/plain": [
       "33402"
      ]
     },
     "execution_count": 55,
     "metadata": {},
     "output_type": "execute_result"
    }
   ],
   "source": [
    "len(training_data)"
   ]
  },
  {
   "cell_type": "code",
   "execution_count": 98,
   "metadata": {
    "collapsed": true
   },
   "outputs": [],
   "source": [
    "\n",
    "class PreProcessDataSet:\n",
    "    \n",
    "    def __init__(self, data, path, num_of_digits):\n",
    "        \n",
    "        self.data = data\n",
    "        self.path = path\n",
    "        self.image_size = (32,32,1)\n",
    "#         self.dataSet = \\\n",
    "#                 np.ndarray([len(self.data), 32, 32, 1], dtype = 'float32')\n",
    "        self.num_classes = 10\n",
    "#         self.total_digits = 6  #data set contains maximum 6 digits\n",
    "        # initialize all elements with 10\n",
    "#         self.labels = np.ones([len(self.data), self.total_digits], dtype=int) * 10\n",
    "\n",
    "        # 73257 number of digits in all train images\n",
    "        self.labels = np.zeros([num_of_digits, self.num_classes], dtype=int)\n",
    "        self.images = []\n",
    "        self.validation_index = []\n",
    "        self.training_index = []\n",
    "        self.count = 0\n",
    "        \n",
    "    \n",
    "    def preProcess(self):\n",
    "        \n",
    "        for i in np.arange(len(self.data)):\n",
    "            \n",
    "            get_filename = self.data[i][\"filename\"]\n",
    "            filename = self.path + get_filename\n",
    "#             print filename\n",
    "            read_image = Image.open(filename)\n",
    "#             read_image.show()\n",
    "            image_size = read_image.size\n",
    "            \n",
    "#             print self.data[i]['boxes']\n",
    "            boxList = self.data[i]['boxes']\n",
    "            number_of_digits = len(boxList)\n",
    "#             self.labels[i, 0] = number_of_digits\n",
    "\n",
    "#             print boxList\n",
    "#             print \"num of digits \", number_of_digits\n",
    "            for digits in np.arange(number_of_digits):\n",
    "                #if digits are less than 5\n",
    "#                 print \"self.count \", self.count\n",
    "#                 print \"boxList[digits]['label'] \", int(boxList[digits]['label'])\n",
    "                # in dataset, digit 0 has label 10\n",
    "                if int(boxList[digits]['label']) == 10:\n",
    "                    self.labels[self.count, 0 ] = 1 \n",
    "                else:\n",
    "                    self.labels[self.count, int(boxList[digits]['label']) ] = 1 \n",
    "\n",
    "                height = int(boxList[digits]['height']) \n",
    "                width = int(boxList[digits]['width'])\n",
    "                top = int(boxList[digits]['top'])\n",
    "                left = int(boxList[digits]['left'])\n",
    "                self.count += 1\n",
    "                cropped_digits = \\\n",
    "                    misc.imresize( (read_image.crop((left, top, width+left, height+top))), (32,32, 3))\n",
    "                \n",
    "                resized_image = Image.fromarray(cropped_digits)\n",
    "                gray_image = resized_image.convert(\"L\")\n",
    "                gray_image = np.expand_dims(gray_image, -1)\n",
    "                gray_image = self.normalization(gray_image)\n",
    "#                 print gray_image.shape\n",
    "                self.images.append(gray_image)\n",
    "#                 print \"self count \", self.count    \n",
    "                \n",
    "    \n",
    "#             if self.count > 220:\n",
    "#                 break\n",
    "            \n",
    "        return  self.images, self.labels\n",
    "            \n",
    "                \n",
    "    def normalization(self, image):\n",
    "\n",
    "        mean = np.mean(image, dtype='float32')\n",
    "        standard_deviation = np.std(image, dtype='float32', ddof=1)\n",
    "\n",
    "        if standard_deviation < 1e-4:\n",
    "            standard_deviation = 1.\n",
    "\n",
    "        image = (image - mean)/standard_deviation\n",
    "\n",
    "        return image\n",
    "    \n",
    "    \n",
    "    def createValidationSet(self, dataset, labels):\n",
    "                \n",
    "        \n",
    "        split_portion = int(len(dataset) * 0.2)\n",
    "    \n",
    "        train_dataset, train_labels = self.shuffleSet(dataset, labels)\n",
    "        valid_dataset = train_dataset[:split_portion]\n",
    "        valid_labels = train_labels[:split_portion]\n",
    "        \n",
    "        train_dataset = train_dataset[split_portion:]\n",
    "        train_labels = train_labels[split_portion:]\n",
    "        \n",
    "        return train_dataset, train_labels, valid_dataset, valid_labels\n",
    "        \n",
    "        \n",
    "    def shuffleSet(self, data, labels ):\n",
    "        \n",
    "        permutation = np.random.permutation(labels.shape[0])\n",
    "#         shuffled_dataset = data[permutation,:,:]\n",
    "#         shuffled_labels = labels[permutation]\n",
    "\n",
    "#         permutation = np.random.permutation(len(labels))\n",
    "        shuffled_dataset = [data[i] for i in permutation]\n",
    "        shuffled_labels = labels[permutation]\n",
    "        \n",
    "        return shuffled_dataset, shuffled_labels\n",
    "        "
   ]
  },
  {
   "cell_type": "code",
   "execution_count": 99,
   "metadata": {},
   "outputs": [],
   "source": [
    "poces = PreProcessDataSet(training_data, training_dataPath, num_of_digits = 73257)"
   ]
  },
  {
   "cell_type": "code",
   "execution_count": 100,
   "metadata": {},
   "outputs": [
    {
     "name": "stderr",
     "output_type": "stream",
     "text": [
      "/home/ramesh/anaconda2/lib/python2.7/site-packages/ipykernel_launcher.py:57: DeprecationWarning: `imresize` is deprecated!\n",
      "`imresize` is deprecated in SciPy 1.0.0, and will be removed in 1.2.0.\n",
      "Use ``skimage.transform.resize`` instead.\n"
     ]
    }
   ],
   "source": [
    "images, labels = poces.preProcess()\n",
    "#train_num_labels contains 10 classes, 0 to 9 and 10(represents no digit) "
   ]
  },
  {
   "cell_type": "code",
   "execution_count": 101,
   "metadata": {},
   "outputs": [
    {
     "data": {
      "text/plain": [
       "(73257, (73257, 10))"
      ]
     },
     "execution_count": 101,
     "metadata": {},
     "output_type": "execute_result"
    }
   ],
   "source": [
    "len(images), labels.shape"
   ]
  },
  {
   "cell_type": "code",
   "execution_count": 60,
   "metadata": {},
   "outputs": [
    {
     "data": {
      "image/png": "[encoded data removed]",
      "text/plain": [
       "<PIL.Image.Image image mode=RGB size=32x32 at 0x7F7CF1082C90>"
      ]
     },
     "execution_count": 60,
     "metadata": {},
     "output_type": "execute_result"
    }
   ],
   "source": [
    "Image.fromarray(images[9],'RGB')"
   ]
  },
  {
   "cell_type": "code",
   "execution_count": null,
   "metadata": {
    "collapsed": true
   },
   "outputs": [],
   "source": []
  },
  {
   "cell_type": "code",
   "execution_count": 91,
   "metadata": {
    "collapsed": true
   },
   "outputs": [],
   "source": [
    "poces = PreProcessDataSet(training_data, training_dataPath, num_of_digits = 73257)"
   ]
  },
  {
   "cell_type": "code",
   "execution_count": 102,
   "metadata": {},
   "outputs": [],
   "source": [
    "train_dataset, train_num_labels, valid_dataset, valid_labels = poces.createValidationSet(images, labels)"
   ]
  },
  {
   "cell_type": "code",
   "execution_count": 103,
   "metadata": {},
   "outputs": [
    {
     "name": "stdout",
     "output_type": "stream",
     "text": [
      "58606 58606 14651 14651\n"
     ]
    }
   ],
   "source": [
    "print len(train_dataset), len(train_num_labels), len(valid_dataset), len(valid_labels)"
   ]
  },
  {
   "cell_type": "markdown",
   "metadata": {},
   "source": [
    "# Generate Test Data"
   ]
  },
  {
   "cell_type": "code",
   "execution_count": 104,
   "metadata": {
    "collapsed": true
   },
   "outputs": [],
   "source": [
    "poces = PreProcessDataSet(testing_data, test_dataPath, num_of_digits = 26032)"
   ]
  },
  {
   "cell_type": "code",
   "execution_count": 105,
   "metadata": {},
   "outputs": [
    {
     "name": "stderr",
     "output_type": "stream",
     "text": [
      "/home/ramesh/anaconda2/lib/python2.7/site-packages/ipykernel_launcher.py:57: DeprecationWarning: `imresize` is deprecated!\n",
      "`imresize` is deprecated in SciPy 1.0.0, and will be removed in 1.2.0.\n",
      "Use ``skimage.transform.resize`` instead.\n"
     ]
    }
   ],
   "source": [
    "test_dataset, test_labels = poces.preProcess()\n",
    "#test_dataset contains images in list\n",
    "#test_labels contains labels of images in list"
   ]
  },
  {
   "cell_type": "code",
   "execution_count": 20,
   "metadata": {
    "collapsed": true
   },
   "outputs": [],
   "source": [
    "# test_labels  = np.asarray(test_labels)"
   ]
  },
  {
   "cell_type": "code",
   "execution_count": 106,
   "metadata": {},
   "outputs": [
    {
     "data": {
      "text/plain": [
       "(26032, (26032, 10))"
      ]
     },
     "execution_count": 106,
     "metadata": {},
     "output_type": "execute_result"
    }
   ],
   "source": [
    "len(test_dataset),  test_labels.shape"
   ]
  },
  {
   "cell_type": "markdown",
   "metadata": {},
   "source": [
    "# Save in Pickle File"
   ]
  },
  {
   "cell_type": "code",
   "execution_count": 107,
   "metadata": {
    "collapsed": true
   },
   "outputs": [],
   "source": [
    "pickle_file = 'SVHN_list_single_digit.pickle'\n",
    "\n",
    "try:\n",
    "  f = open(pickle_file, 'wb')\n",
    "  save = {\n",
    "    'train_dataset': train_dataset,\n",
    "    'train_labels': train_num_labels,\n",
    "    'valid_dataset': valid_dataset,\n",
    "    'valid_labels': valid_labels,\n",
    "    'test_dataset': test_dataset,\n",
    "    'test_labels': test_labels,\n",
    "    }\n",
    "  pickle.dump(save, f, pickle.HIGHEST_PROTOCOL)\n",
    "  f.close()\n",
    "except Exception as e:\n",
    "  print('Unable to save data to', pickle_file, ':', e)\n",
    "  raise"
   ]
  },
  {
   "cell_type": "code",
   "execution_count": null,
   "metadata": {
    "collapsed": true
   },
   "outputs": [],
   "source": []
  }
 ],
 "metadata": {
  "anaconda-cloud": {},
  "kernelspec": {
   "display_name": "Python 2",
   "language": "python",
   "name": "python2"
  },
  "language_info": {
   "codemirror_mode": {
    "name": "ipython",
    "version": 2
   },
   "file_extension": ".py",
   "mimetype": "text/x-python",
   "name": "python",
   "nbconvert_exporter": "python",
   "pygments_lexer": "ipython2",
   "version": "2.7.14"
  }
 },
 "nbformat": 4,
 "nbformat_minor": 2
}
